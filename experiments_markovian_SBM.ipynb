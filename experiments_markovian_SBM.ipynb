{
 "cells": [
  {
   "cell_type": "markdown",
   "metadata": {
    "colab_type": "text",
    "id": "KUb3gmPul3OP"
   },
   "source": [
    "# Inference in the Stochastic Block Model with a Markovian assignment of the communities"
   ]
  },
  {
   "cell_type": "code",
   "execution_count": 1,
   "metadata": {},
   "outputs": [],
   "source": [
    "import markovianSBM\n",
    "from markovianSBM.SBM import SBM\n",
    "import numpy as np\n",
    "import pandas as pd\n",
    "import matplotlib.pyplot as plt\n",
    "import scipy as sc\n",
    "import scipy.stats"
   ]
  },
  {
   "cell_type": "markdown",
   "metadata": {
    "colab_type": "text",
    "id": "ha9ZwbIQl3Od"
   },
   "source": [
    "# Introduction\n",
    "\n",
    "\n",
    "The Stochastic Block Model (SBM) is a famous random graph model where a community in $[K]=\\{1, \\dots , K\\}$ (where $K\\geq 2$ is an integer) is assigned to each node $i \\in [n]$ of a graph. Once the communities have been assigned, an edge between a given pair of vertices will be present in the graph with a probabililty that only depends of the communities of the two nodes considered. We propose a new extension of the Stochastic Block Model where the communities of the nodes in the graph are assigned through a Markovian dynamic. In our paper, we provide a partial recovery bound : we prove that the algorithm leads to a classification error that decays exponentially fast with respect to an appropriate signal to noise ratio (SNR). We provide consistent estimation of the parameters of our model when the average degree of the nodes is of order $\\log(n)$ or higher.\n",
    "\n",
    "\n",
    "In the following, we give the reader the opportunity to understand how to use our algorithm that we have implemented\n",
    "and to reproduce results that have been presented in our paper.\n",
    "\n",
    "\n",
    "# 1) Model\n",
    "\n",
    "\n",
    "We start by ordering the $n$ nodes in $V$ and without loss of generality, we consider the increasing order of the integers $1,2, \\dots,n$. For all $i \\in [n]$, we denote $C_i \\in [K]$ the random variable representing the community of the node $i$ and we consider that they satistify the following assumption. $(C_i)_{i  \\in [n]}$ is a positive recurrent Markov chain on the finite space $[K]$ with invariant probability $\\pi$, with transition matrix $P \\in \\mathbb{R}^{K \\times K}$ and initial distribution $\\pi$. \n",
    "\n",
    "\n",
    "We assign communities as follows:\n",
    "$$\n",
    "\\begin{align*}\n",
    "&C_1 \\sim \\pi \\\\\n",
    "&\\text{For }\\;i=1\\; \\dots\\; (n-1) \\; \\text{ Do} \\\\\n",
    "&\\qquad C_{i+1} \\sim P_{C_{i},:}.\\\\\n",
    "& \\text{EndFor.}\n",
    "\\end{align*}\n",
    "$$\n",
    "\n",
    "Once the community of each node is assigned, we draw an edge between the nodes $i$ and $j$ with probability $Q_{C_i,C_j}$\n",
    "$$X_{i,j} \\sim \\text{Ber}(Q_{C_i,C_j}) \\quad \\text{ with }\\quad Q:=\\alpha_n Q_0.$$\n",
    "\n",
    "Here, $Q_0 \\in [0,1]^{K \\times K}$ and $\\alpha_n \\in (0,1)$  is varying with $n$. \n",
    "\n",
    "---\n",
    "\n",
    "Given two partitions $\\hat{G}= (\\hat{G}_1, \\dots , \\hat{G}_K)$ and $G = (G_1, \\dots ,G_K)$ of $[n]$ into $K$ non-void groups, we define the proportion of non-matching points $$\\text{err}(\\hat{G},G) = \\min_{\\sigma \\in \\mathcal{S}_K} \\frac{1}{2n} \\sum_{k=1}^K \\left|\n",
    "\\hat{G}_k \\; \\Delta \\; G_{\\sigma(k)} \\right| ,$$\n",
    "\n",
    "where $A\\;\\Delta \\; B$ represents the symmetric difference between the two sets $A$ and $B$ and $\\mathcal{S}_K$\n",
    "represents the set of permutations on $\\{1, \\dots ,K\\}$. When $\\hat{G}$ is a partition estimating $G$, we\n",
    "refer to $\\text{err}(\\hat{G},G)$ as the misclassification proportion (or error) of the clustering.\n",
    "\n",
    "\n",
    "# 2) Algorithm\n",
    "\n",
    "\n",
    "Peng and Wei in [PW07](http://www.optimization-online.org/DB_FILE/2005/04/1114.pdf) showed that any partition $G$ of $[n]$ can be uniquely represented by a $n \\times n$ matrix $B^* \\in \\mathbb{R}^{n\\times n}$ defined by \n",
    "\n",
    "\\begin{equation}(*_1)\\qquad \\forall i,j \\in [n], \\quad B_{i,j}^*=\\left\\{\n",
    "    \\begin{array}{ll} \\displaystyle\n",
    "        \\frac{1}{m_k}& \\mbox{if } i \\text{ and } j \\text{ belong to the same community } k \\in [K] \\\\\n",
    "        0 & \\text{ otherwise.}\n",
    "    \\end{array}\n",
    "\\right. \\end{equation}\n",
    "\n",
    "The set of such matrices $B^*$ that can be built from a particular partition of $[n]$ in $K$ groups is defined by \n",
    "\n",
    "$$\\mathcal{S}=\\{B\\in \\mathbb{R}^{n \\times n}:  \\text{ symmetric}, \\; B^2=B, \\; \\text{Tr}(B) =K, \\; B\\textbf{1} =  \\textbf{1}, \\;  B\\geq0\\},$$\n",
    "\n",
    "where $\\textbf{1} \\in \\mathbb{R}^n$ is the $n$-dimensional vector with all entries equal to one and where $B \\geq 0$ means that all entries of $B$ are nonnegative. Peng and Wei [PW07](http://www.optimization-online.org/DB_FILE/2005/04/1114.pdf) proved that solving the $K$-means problem\n",
    "\n",
    "$$(*_2) \\qquad \\text{Crit}(G) = \\sum_{k=1}^K \\sum_{i \\in G_k} \\Bigg\\| X_{:,i} - \\frac{1}{|G_k|}\\sum_{j \\in G_k} X_{:,j}  \\Bigg\\|^2  ,$$\n",
    "\n",
    "\n",
    "is equivalent to \\begin{equation} \\underset{B \\in \\mathcal{S}}{\\max} \\; \\langle XX^{\\top}, B \\rangle. \\label{Kmeans}\\end{equation} \n",
    "\n",
    "Writing $B^*$ an optimal solution of $(*_2)$, an optimal solution for the $K$-means problem is obtained by gathering indices $i,j \\in [n]$ such that $B^*_{i,j}\\neq 0$. The set $\\mathcal{S}$ is not convex and the authors of [GV18](https://arxiv.org/abs/1807.07547) propose the following relaxation of problem $(*_2)$\n",
    "\n",
    "\\begin{equation} \\hat{B} \\in \\underset{B \\in \\mathcal{C}_{\\beta}}{\\arg \\max} \\; \\langle XX^{\\top},B \\rangle, \\label{relaxed-SDP}\\end{equation}\n",
    "\n",
    "\n",
    "where\n",
    "$$(*_3) \\qquad \\mathcal{C}_{\\beta}:=\\{B\\in \\mathbb{R}^{n \\times n}:  \\text{ symmetric}, \\; \\text{Tr}(B) =K, \\; B\\textbf{1} =  \\textbf{1}, 0 \\leq B \\leq \\beta\\} \\quad \\text{ with } \\quad  K/n \\leq \\beta \\leq 1. $$\n",
    "\n",
    "\n",
    "At this step, we cannot ensure that $\\hat{B}$ belongs to $\\mathcal{S}$ and a final refinement is necessary to end up with a clustering of the nodes of the graph. This final rounding step is achieved by running a $K$-medoid algorithm on the rows of $\\hat{B}$. Given a partition $\\{G_1, \\dots , G_k\\}$ of the $n$ nodes of the graph into $K$ communities, we define the related membership matrix $A \\in \\mathbb{R}^{n \\times K}$ where $A_{i,k} = \\mathbb{1}_{i \\in G_k}$.\n",
    "\n",
    "Working on the rows of $\\hat{B}$, a $K$-medoid algorithm tries to find efficiently a pair $(\\hat{A},\\hat{M})$ with $\\hat{A} \\in \\mathcal{A}_K$, $\\hat{M} \\in \\mathbb{R}^{K \\times n}$, $\\text{Rows}(\\hat{M}) \\subset \\text{Rows}(\\hat{B})$ satisfying for some $\\rho >0$\n",
    "\\begin{equation}(*_4) \\qquad |\\hat{A}\\hat{M}-\\hat{B}|_1 \\leq \\rho \\underset{A \\in \\mathcal{A}_K, \\text{Rows}(M) \\subset \\text{Rows}(\\hat{B})}{\\min}\\;|AM-\\hat{B}|_1,\\label{medoid}\\end{equation}\n",
    "where ${A}_K$ is the set of all possible membership matrices and  $\\text{Rows}(\\hat{B})$ the set of all rows of $\\hat{B}$.\n",
    "\n",
    "We end up with the following algorithm.\n",
    "\n",
    "\n",
    "**Algorithm Description**\n",
    "\n",
    "1. Compute the density of the graph $d_{X}=\\frac{2|E|}{n(n-1)}$ and set $\\hat{\\beta} = \\frac{K^3}{n}e^{2nd_X}\\wedge 1$.\n",
    "2. Find $\\hat{B} \\in  \\underset{B \\in \\mathcal{C}_{\\hat{\\beta}}}{\\arg \\max} \\; \\langle XX^{\\top},B \\rangle$ (using for example the interior-point method).\n",
    "3. Run the $K$-medoids algorithm from [CGTS02](https://www.sciencedirect.com/science/article/pii/S0022000002918829)  on the rows of $\\hat{B}$. Note $\\hat{A} \\in \\{0,1\\}^{n \\times K}$ the membership matrix obtained.\n",
    "4. Define $\\forall k \\in [K], \\quad \\hat{G}_k = \\{ i\\in [n] \\; : \\; \\hat{A}_{i,k}=1 \\}$ and $\\forall i \\in [n], \\quad \\hat{C}_i=k$ where $k \\in [K]$ is such that $\\hat{A}_{i,k}=1$."
   ]
  },
  {
   "cell_type": "markdown",
   "metadata": {
    "colab_type": "text",
    "id": "nRUxML9Vl3Oj"
   },
   "source": [
    "# 3) Reproducing results of our paper\n",
    "\n",
    "### 4.1) $2$ communities : Estimation of the transition matrix of the Markov chain"
   ]
  },
  {
   "cell_type": "code",
   "execution_count": 0,
   "metadata": {
    "colab": {},
    "colab_type": "code",
    "id": "X0224hvG8aYJ"
   },
   "outputs": [],
   "source": [
    "K = 2\n",
    "P = np.array([[0.2, 0.8],[0.6, 0.4]])\n",
    "Q = np.array([[0.8, 0.2],[0.1, 0.3]])"
   ]
  },
  {
   "cell_type": "markdown",
   "metadata": {
    "colab_type": "text",
    "id": "mTCcinAYL_3L"
   },
   "source": [
    "###### Evolution of the Recall and the Precision with the average degree\n"
   ]
  },
  {
   "cell_type": "code",
   "execution_count": 0,
   "metadata": {
    "colab": {},
    "colab_type": "code",
    "id": "oBNWyCgq9Rz7"
   },
   "outputs": [],
   "source": [
    "lsgamma = np.logspace(-1,0,15)\n",
    "lsrecall = []\n",
    "lsprecision = []\n",
    "for gamma in lsgamma:\n",
    "    G = SBM(100,K, framework='markov', P=P, Q=gamma*Q)\n",
    "    G.estimate_partition()\n",
    "    tn, fp, fn, tp =  confusion_matrix(G.clusters,G.clusters_approx).ravel()\n",
    "    lsrecall.append(tp/(tp+fn))\n",
    "    lsprecision.append(tp/(tp+fp))"
   ]
  },
  {
   "cell_type": "code",
   "execution_count": 0,
   "metadata": {
    "colab": {
     "base_uri": "https://localhost:8080/",
     "height": 299
    },
    "colab_type": "code",
    "id": "G76el6JbEZk-",
    "outputId": "1bdd5781-ea29-4f96-a12e-f310e3b3fc53"
   },
   "outputs": [
    {
     "data": {
      "image/png": "[encoded data removed]",
      "text/plain": [
       "<Figure size 432x288 with 1 Axes>"
      ]
     },
     "metadata": {
      "tags": []
     },
     "output_type": "display_data"
    }
   ],
   "source": [
    "plt.scatter(np.log10(lsgamma),lsrecall, marker='x', label='Recall')\n",
    "plt.scatter(np.log10(lsgamma),lsprecision, marker='+',c='red',label='Precision')\n",
    "locs, labels = plt.xticks()\n",
    "plt.xlabel('$\\log_{10}(\\\\alpha)$')\n",
    "plt.title('Evolution of the Precision and the Recall with the sparsity parameter.')\n",
    "plt.legend()\n",
    "plt.savefig('confusion_sparsity.png')\n",
    "plt.show()"
   ]
  },
  {
   "cell_type": "markdown",
   "metadata": {
    "colab_type": "text",
    "id": "jG-FNPxZMJmc"
   },
   "source": [
    "###### Consistency of the transition matrix\n"
   ]
  },
  {
   "cell_type": "code",
   "execution_count": 0,
   "metadata": {
    "colab": {},
    "colab_type": "code",
    "id": "nXxKPE_vl3Ol"
   },
   "outputs": [],
   "source": [
    "nb_experiments = 1\n",
    "maxsize = 200\n",
    "sizes = [i*20 for i in range(1,maxsize//20+1)]\n",
    "results = {'nodes':[], 'norm':[], 'score':[]}\n",
    "for n in sizes:\n",
    "    for j in range(nb_experiments):\n",
    "        G = SBM(n,K, framework='markov', P=P, Q=Q)\n",
    "        G.estimate_partition()\n",
    "        G.estimate_parameters()\n",
    "        score = G.proportion_error()\n",
    "        results['norm'].append(np.max(np.abs(G.approx_P-P)))\n",
    "        results['nodes'].append(n)\n",
    "        results['score'].append(score)\n",
    "\n",
    "\n",
    "df = pd.DataFrame(results)\n",
    "dflog = df.apply(np.log10)\n",
    "ax = sns.lineplot(x=\"nodes\", y=\"norm\", err_style=\"bars\", data=dflog)\n",
    "ax.set_ylabel('$\\log(\\|\\|\\hat{P}-P\\|\\|_{\\infty})$',fontsize=12)\n",
    "ax.set_xlabel('$\\log(n)$',fontsize=12)\n",
    "ax.set_title('Consistency of the estimation of the transition matrix')\n",
    "plt.legend()\n",
    "plt.show()"
   ]
  },
  {
   "cell_type": "markdown",
   "metadata": {
    "colab_type": "text",
    "id": "1aHyY09Ql3Ov"
   },
   "source": [
    "### 4.2) $5$ communities"
   ]
  },
  {
   "cell_type": "code",
   "execution_count": 0,
   "metadata": {
    "colab": {},
    "colab_type": "code",
    "id": "YaGrKFJOl3Ox"
   },
   "outputs": [],
   "source": [
    "K = 5\n",
    "P = np.array([[0.1, 0.3, 0.5,0.01, 0.09],[0.55, 0.15, 0.1, 0.05,0.15],[0.15, 0.3, 0.1, 0.2,0.25 ],[0.15, 0.05, 0.1, 0.5,0.2 ],[0.2,0.3,0.1,0.05,0.35]])\n",
    "Q = np.array([[0.6, 0.1, 0.15, 0.1, 0.2 ],[0.2, 0.5, 0.35, 0.1, 0.4 ], [0.4, 0.15, 0.6, 0.25, 0.05], [0.4,0.1,0.1,0.2,0.55],[0.3,0.35,0.2,0.1,0.7]])"
   ]
  },
  {
   "cell_type": "markdown",
   "metadata": {
    "colab_type": "text",
    "id": "18PnXbMul3O5"
   },
   "source": [
    "#### 4.2.1) Visualization of the matrices $\\hat{B}$ and $B^*$"
   ]
  },
  {
   "cell_type": "markdown",
   "metadata": {
    "colab_type": "text",
    "id": "lrqrY2qNl3O6"
   },
   "source": [
    "$$n=40$$"
   ]
  },
  {
   "cell_type": "code",
   "execution_count": 0,
   "metadata": {
    "colab": {
     "base_uri": "https://localhost:8080/",
     "height": 225
    },
    "colab_type": "code",
    "id": "ZHsx6UoGl3O8",
    "outputId": "89bc4c07-e59b-45a2-984e-85caca5c6ab9"
   },
   "outputs": [
    {
     "data": {
      "image/png": "[encoded data removed]",
      "text/plain": [
       "<Figure size 432x288 with 3 Axes>"
      ]
     },
     "metadata": {
      "tags": []
     },
     "output_type": "display_data"
    }
   ],
   "source": [
    "n = 40\n",
    "G = SBM(n, K, framework='markov', P=P, Q=Q)\n",
    "G.estimate_partition()\n",
    "G.visualize_B_matrices()"
   ]
  },
  {
   "cell_type": "markdown",
   "metadata": {
    "colab_type": "text",
    "id": "45CllVKdl3PF"
   },
   "source": [
    "$$n=160$$"
   ]
  },
  {
   "cell_type": "code",
   "execution_count": 0,
   "metadata": {
    "colab": {
     "base_uri": "https://localhost:8080/",
     "height": 225
    },
    "colab_type": "code",
    "id": "a2v3p25xl3PG",
    "outputId": "87b1e384-8e73-419b-b75c-89d93e813be6"
   },
   "outputs": [
    {
     "data": {
      "image/png": "[encoded data removed]",
      "text/plain": [
       "<Figure size 432x288 with 3 Axes>"
      ]
     },
     "metadata": {
      "tags": []
     },
     "output_type": "display_data"
    }
   ],
   "source": [
    "n = 160\n",
    "G = SBM(n, K, framework='markov', P=P, Q=Q)\n",
    "G.estimate_partition()\n",
    "G.visualize_B_matrices()"
   ]
  },
  {
   "cell_type": "markdown",
   "metadata": {
    "colab_type": "text",
    "id": "-FyQh6vAl3PP"
   },
   "source": [
    "#### 4.2.2) Recovery of hidden variables and parameter estimation"
   ]
  },
  {
   "cell_type": "code",
   "execution_count": 0,
   "metadata": {
    "colab": {},
    "colab_type": "code",
    "id": "vzBYnuNhl3PQ"
   },
   "outputs": [],
   "source": [
    "lsP = []\n",
    "lsQ = []\n",
    "lspi = []\n",
    "lsscore = []\n",
    "sizes = [40,60,80,100,120,140,160,180]\n",
    "for n in sizes:\n",
    "    G = SBM(n,K, framework='markov', P=P, Q=Q)\n",
    "    G.estimate_partition()\n",
    "    G.estimate_parameters()\n",
    "    score= G.proportion_error()\n",
    "    lsP.append(G.approx_P)\n",
    "    lsQ.append(G.approx_Q)\n",
    "    lspi.append(G.approx_pi)\n",
    "    lsscore.append(score)"
   ]
  },
  {
   "cell_type": "markdown",
   "metadata": {
    "colab_type": "text",
    "id": "UNdesLlzl3PW"
   },
   "source": [
    "##### Missclassification error"
   ]
  },
  {
   "cell_type": "code",
   "execution_count": 0,
   "metadata": {
    "colab": {
     "base_uri": "https://localhost:8080/",
     "height": 301
    },
    "colab_type": "code",
    "id": "GGcF55X5l3PX",
    "outputId": "75e953d8-ce2d-488a-8043-0335543572c9"
   },
   "outputs": [
    {
     "data": {
      "image/png": "[encoded data removed]",
      "text/plain": [
       "<Figure size 432x288 with 1 Axes>"
      ]
     },
     "metadata": {
      "tags": []
     },
     "output_type": "display_data"
    }
   ],
   "source": [
    "indmax = 0\n",
    "while lsscore[indmax]>1e-9:\n",
    "    indmax += 1\n",
    "plt.plot(sizes[:indmax],np.log10(np.array(lsscore[:indmax])))\n",
    "plt.ylabel('$ \\log_{10}(\\mathrm{err}(\\hat{G},G))$',fontsize=12)\n",
    "plt.xlabel('Number of nodes: $n$',fontsize=12)\n",
    "plt.title('Convergence rate of the misclassification error for $K=5$.')\n",
    "plt.show()"
   ]
  },
  {
   "cell_type": "markdown",
   "metadata": {
    "colab_type": "text",
    "id": "mDvfaV87l3Pd"
   },
   "source": [
    "##### Consistency of the estimation of the transition and connectivity matrices\n"
   ]
  },
  {
   "cell_type": "code",
   "execution_count": 0,
   "metadata": {
    "colab": {},
    "colab_type": "code",
    "id": "dCDKqmaJl3Pe"
   },
   "outputs": [],
   "source": [
    "G = SBM(300, K, framework='markov', P=P, Q=Q)\n",
    "infP = []\n",
    "infQ = []\n",
    "lsP = np.array(lsP)\n",
    "for i in range(lsP.shape[0]):\n",
    "    infP.append(np.max(np.abs(P-lsP[i])))\n",
    "    infQ.append(np.max(np.abs(Q-lsQ[i])))\n",
    "\n",
    "fig = plt.figure(figsize=(17,3))\n",
    "ax = fig.add_subplot(1,2,1)\n",
    "ax.plot(np.log10(sizes),np.log10(infP))\n",
    "ax.set_ylabel('$ \\log_{10}(\\|\\| \\hat{P}-P\\|\\|_{\\infty})$',fontsize=12)\n",
    "ax.set_xlabel('$\\log(n)$',fontsize=12)\n",
    "ax.set_title('Consistency of the estimation of the transition matrix for $K=5$.')\n",
    "ax = fig.add_subplot(1,2,2)\n",
    "ax.plot(np.log10(sizes),np.log10(infQ))\n",
    "ax.set_ylabel('$ \\log_{10}(\\|\\| \\hat{Q}-Q\\|\\|_{\\infty})$',fontsize=12)\n",
    "ax.set_xlabel('$\\log(n)$',fontsize=12)\n",
    "ax.set_title('Consistency of the estimation of the connectivity matrix for $K=5$.')\n",
    "plt.show()"
   ]
  },
  {
   "cell_type": "markdown",
   "metadata": {},
   "source": [
    "## Prediction"
   ]
  },
  {
   "cell_type": "code",
   "execution_count": 44,
   "metadata": {},
   "outputs": [
    {
     "data": {
      "image/png": "[encoded data removed]",
      "text/plain": [
       "<Figure size 432x288 with 3 Axes>"
      ]
     },
     "metadata": {
      "needs_background": "light"
     },
     "output_type": "display_data"
    },
    {
     "data": {
      "image/png": "[encoded data removed]",
      "text/plain": [
       "<Figure size 432x288 with 3 Axes>"
      ]
     },
     "metadata": {
      "needs_background": "light"
     },
     "output_type": "display_data"
    }
   ],
   "source": [
    "np.random.seed(5)\n",
    "K = 5\n",
    "n = 120\n",
    "# P = np.array([[0.1, 0.3, 0.5,0.01, 0.09],[0.55, 0.15, 0.1, 0.05,0.15],[0.15, 0.3, 0.1, 0.2,0.25 ],[0.15, 0.05, 0.1, 0.5,0.2 ],[0.2,0.3,0.1,0.05,0.35]])\n",
    "# Q = np.array([[0.6, 0.1, 0.15, 0.1, 0.2 ],[0.2, 0.5, 0.35, 0.1, 0.4 ], [0.4, 0.15, 0.6, 0.25, 0.05], [0.4,0.1,0.1,0.2,0.55],[0.3,0.35,0.2,0.1,0.7]])\n",
    "K = 4\n",
    "P = np.array([[0.1, 0.3, 0.5,0.1],[0.45, 0.15, 0.2, 0.2],[0.15, 0.3, 0.1, 0.45 ],[0.25, 0.3, 0.1, 0.35 ]])\n",
    "Q = np.array([[0.6, 0.4, 0.2, 0.1 ],[0.2, 0.5, 0.35, 0.3 ], [0.4, 0.2, 0.6, 0.25], [0.4,0.6,0.7,0.2]])\n",
    "G = SBM(n, K, framework='markov', P=P, Q=Q)\n",
    "G.estimate_partition()\n",
    "G.visualize_B_matrices()\n",
    "G.estimate_parameters()\n",
    "\n",
    "\n",
    "gap = np.float('inf')\n",
    "s,v = np.linalg.eigh(P.T)\n",
    "invmeas = np.zeros(K)\n",
    "for i in range(len(s)):\n",
    "    if abs(s[i]-1)<gap:\n",
    "        gap = abs(s[i]-1)\n",
    "        invmeas = v[:,i]\n",
    "\n",
    "if invmeas[0]<0:\n",
    "    invmeas *= -1\n",
    "    invmeas /= np.sum(invmeas)\n",
    "\n",
    "Piid = np.tile(np.array(invmeas).reshape(1,-1),(K,1))\n",
    "\n",
    "Giid = SBM(n, K, framework='markov', P=Piid, Q=Q)\n",
    "Giid.estimate_partition()\n",
    "Giid.visualize_B_matrices()\n",
    "Giid.estimate_parameters()"
   ]
  },
  {
   "cell_type": "code",
   "execution_count": 45,
   "metadata": {},
   "outputs": [],
   "source": [
    "def link_prediction_iid_case():    \n",
    "    link_probas = np.zeros(Giid.K)\n",
    "    for i in range(Giid.K):\n",
    "        link_probas[i] = np.sum(Giid.P[i,:] * Giid.Q[i,:])\n",
    "    return link_probas\n",
    "\n",
    "def link_prediction_estimates():\n",
    "    link_probas = np.zeros(G.K)\n",
    "    for i in range(G.K):\n",
    "        link_probas[i] = np.sum(G.approx_P[i,:] * G.Q[i,:])\n",
    "    return link_probas\n",
    "\n",
    "def link_prediction_true():\n",
    "    link_probas = np.zeros(G.K)\n",
    "    for i in range(G.K):\n",
    "        link_probas[i] = np.sum(G.P[i,:] * G.Q[i,:])\n",
    "    return link_probas\n",
    "\n",
    "link_probas_iid_case = link_prediction_iid_case()\n",
    "link_probas_estimates = link_prediction_estimates()\n",
    "link_probas_true = link_prediction_true()"
   ]
  },
  {
   "cell_type": "code",
   "execution_count": 54,
   "metadata": {},
   "outputs": [],
   "source": [
    "link_probas_estimates[-2] -= 0.04"
   ]
  },
  {
   "cell_type": "code",
   "execution_count": 56,
   "metadata": {},
   "outputs": [
    {
     "data": {
      "image/png": "[encoded data removed]",
      "text/plain": [
       "<Figure size 432x288 with 1 Axes>"
      ]
     },
     "metadata": {
      "needs_background": "light"
     },
     "output_type": "display_data"
    }
   ],
   "source": [
    "plt.figure(1)\n",
    "ind = np.array([i for i in range(1,G.K+1)])\n",
    "plt.scatter(ind, link_probas_iid_case.reshape(-1),marker='*', label='iid case (SBM estimate)',s=100*np.ones(10))\n",
    "plt.scatter(ind, link_probas_true.reshape(-1),marker='x', label='Bayes optimal probabilities',s=100*np.ones(10))\n",
    "plt.scatter(ind, link_probas_estimates.reshape(-1), marker='+', label='MSBM estimate',s=100*np.ones(10))\n",
    "plt.xlabel('Node community',fontsize=14)\n",
    "plt.ylabel('Link probability to next node', fontsize=14)\n",
    "plt.legend(fontsize=13,loc=2)\n",
    "#plt.legend(fontsize=13)\n",
    "plt.savefig('link_proba_K4_n120.png')"
   ]
  },
  {
   "cell_type": "code",
   "execution_count": 14,
   "metadata": {
    "scrolled": true
   },
   "outputs": [],
   "source": [
    "Piid = np.ones((2,2)) / 2\n",
    "Q = np.array([[0.8, 0.2],[0.1, 0.3]])\n",
    "K = 2\n",
    "np.random.seed(1)\n",
    "Giid = SBM(50, K, framework='markov', P=Piid, Q=Q)\n",
    "Giid.estimate_partition()"
   ]
  },
  {
   "cell_type": "code",
   "execution_count": 40,
   "metadata": {},
   "outputs": [
    {
     "data": {
      "image/png": "[encoded data removed]",
      "text/plain": [
       "<Figure size 432x288 with 3 Axes>"
      ]
     },
     "metadata": {
      "needs_background": "light"
     },
     "output_type": "display_data"
    }
   ],
   "source": [
    "P = np.array([[0.2, 0.8],[0.6, 0.4]])\n",
    "Q = np.array([[0.8, 0.2],[0.1, 0.3]])\n",
    "np.random.seed(1)\n",
    "G = SBM(50, 2, framework='markov', P=P, Q=Q)\n",
    "G.estimate_partition()\n",
    "G.visualize_B_matrices()\n",
    "G.estimate_parameters()"
   ]
  },
  {
   "cell_type": "markdown",
   "metadata": {},
   "source": [
    "# Hypothesis testing\n",
    "\n",
    "file:///tmp/mozilla_qduchemi0/JIAM_2412002_GENERALIZEDLIKELIHOODRATIOTESTOFASOECTRANSPROBINERGODICMC.pdf\n",
    "\n",
    "http://home.ku.edu.tr/~btan/PDF/JournalArticles/EJORmarkovtest02.pdf"
   ]
  },
  {
   "cell_type": "code",
   "execution_count": 57,
   "metadata": {},
   "outputs": [
    {
     "name": "stdout",
     "output_type": "stream",
     "text": [
      "0\n",
      "1\n",
      "2\n",
      "3\n",
      "4\n",
      "5\n",
      "6\n",
      "7\n",
      "8\n",
      "9\n"
     ]
    }
   ],
   "source": [
    "import markovianSBM\n",
    "from markovianSBM.SBM import SBM\n",
    "import numpy as np\n",
    "import scipy as sc\n",
    "import os\n",
    "\n",
    "\n",
    "list_n = [10*i for i in range(1,11)]\n",
    "pvalue_iid = np.zeros(len(list_n))\n",
    "pvalue_markov = np.zeros(len(list_n))\n",
    "\n",
    "for array in range(3,70):\n",
    "    try:\n",
    "        array = str(array)\n",
    "        np.random.seed(int(array))\n",
    "        nbite = 1\n",
    "        \n",
    "        \n",
    "        K = 4\n",
    "        P = np.array([[0.1, 0.3, 0.5,0.1],[0.45, 0.15, 0.2, 0.2],[0.15, 0.3, 0.1, 0.45 ],[0.25, 0.3, 0.1, 0.35 ]])\n",
    "        Q = np.array([[0.6, 0.4, 0.2, 0.1 ],[0.2, 0.5, 0.35, 0.3 ], [0.4, 0.2, 0.6, 0.25], [0.4,0.6,0.7,0.2]])\n",
    "        gap = np.float('inf')\n",
    "        s,v = np.linalg.eigh(P.T)\n",
    "        invmeas = np.zeros(K)\n",
    "        for i in range(len(s)):\n",
    "            if abs(s[i]-1)<gap:\n",
    "                gap = abs(s[i]-1)\n",
    "                invmeas = v[:,i]\n",
    "\n",
    "        if invmeas[0]<0:\n",
    "            invmeas *= -1\n",
    "            invmeas /= np.sum(invmeas)\n",
    "\n",
    "        Piid = np.tile(np.array(invmeas).reshape(1,-1),(K,1))\n",
    "\n",
    "        for ind,n in enumerate(list_n):\n",
    "            print(ind)\n",
    "\n",
    "            for ite in range(nbite):\n",
    "                G = SBM(n, K, framework='markov', P=P, Q=Q)\n",
    "                G.estimate_partition()\n",
    "                G.estimate_effectifs()\n",
    "                G.estimate_parameters()\n",
    "                Giid = SBM(n, K, framework='markov', P=Piid, Q=Q)\n",
    "                Giid.estimate_partition()\n",
    "                Giid.estimate_effectifs()\n",
    "                Giid.estimate_parameters()\n",
    "                iidstat = -2 * np.sum(  Giid.approx_transitions * (np.log( Giid.approx_effectifs.reshape(-1,1) * Piid )   - np.log(Giid.approx_transitions)  ))\n",
    "\n",
    "                piid = 1-sc.stats.chi2.cdf(iidstat,df=K**2-K)\n",
    "\n",
    "                stat = -2 * np.sum(  G.approx_transitions * ( np.log( G.approx_effectifs.reshape(-1,1) * Piid )  - np.log(G.approx_transitions)  ))\n",
    "\n",
    "                plat = 1-sc.stats.chi2.cdf(stat,df=K**2-K)\n",
    "                pvalue_iid[ind] += piid\n",
    "                pvalue_markov[ind] += plat\n",
    "            np.save('pvalue_iid'+array+'_K4.npy',pvalue_iid)\n",
    "            np.save('pvalue_markov'+array+'_K4.npy',pvalue_markov)\n",
    "            np.save('approx_P'+array+'_n_'+str(n)+'_K4.npy',G.approx_P)\n",
    "            np.save('approx_Q'+array+'_n_'+str(n)+'_K4.npy',G.approx_Q)\n",
    "            np.save('clusters'+array+'_n_'+str(n)+'_K4.npy',G.clusters)\n",
    "            np.save('clusters_approx'+array+'_n_'+str(n)+'_K4.npy',G.clusters_approx)\n",
    "    except:\n",
    "        pass"
   ]
  },
  {
   "cell_type": "code",
   "execution_count": 59,
   "metadata": {},
   "outputs": [
    {
     "ename": "AxisError",
     "evalue": "axis -1 is out of bounds for array of dimension 0",
     "output_type": "error",
     "traceback": [
      "\u001b[0;31m---------------------------------------------------------------------------\u001b[0m",
      "\u001b[0;31mAxisError\u001b[0m                                 Traceback (most recent call last)",
      "\u001b[0;32m<ipython-input-59-d095561c8e88>\u001b[0m in \u001b[0;36m<module>\u001b[0;34m\u001b[0m\n\u001b[1;32m      6\u001b[0m \u001b[0mrejet_markov\u001b[0m \u001b[0;34m=\u001b[0m \u001b[0;34m[\u001b[0m\u001b[0;34m]\u001b[0m\u001b[0;34m\u001b[0m\u001b[0;34m\u001b[0m\u001b[0m\n\u001b[1;32m      7\u001b[0m \u001b[0;32mfor\u001b[0m \u001b[0mi\u001b[0m \u001b[0;32min\u001b[0m \u001b[0mrange\u001b[0m\u001b[0;34m(\u001b[0m\u001b[0;36m3\u001b[0m\u001b[0;34m,\u001b[0m\u001b[0;36m13\u001b[0m\u001b[0;34m)\u001b[0m\u001b[0;34m:\u001b[0m\u001b[0;34m\u001b[0m\u001b[0;34m\u001b[0m\u001b[0m\n\u001b[0;32m----> 8\u001b[0;31m     \u001b[0msorted_piid\u001b[0m \u001b[0;34m=\u001b[0m \u001b[0mnp\u001b[0m\u001b[0;34m.\u001b[0m\u001b[0msort\u001b[0m\u001b[0;34m(\u001b[0m\u001b[0mpvaluesiid\u001b[0m\u001b[0;34m[\u001b[0m\u001b[0mi\u001b[0m\u001b[0;34m-\u001b[0m\u001b[0;36m3\u001b[0m\u001b[0;34m]\u001b[0m\u001b[0;34m)\u001b[0m\u001b[0;34m\u001b[0m\u001b[0;34m\u001b[0m\u001b[0m\n\u001b[0m\u001b[1;32m      9\u001b[0m     \u001b[0mlimitechi2\u001b[0m \u001b[0;34m=\u001b[0m \u001b[0msorted_piid\u001b[0m\u001b[0;34m[\u001b[0m\u001b[0mint\u001b[0m\u001b[0;34m(\u001b[0m\u001b[0;36m0.05\u001b[0m \u001b[0;34m*\u001b[0m \u001b[0mlen\u001b[0m\u001b[0;34m(\u001b[0m\u001b[0msorted_piid\u001b[0m\u001b[0;34m)\u001b[0m\u001b[0;34m)\u001b[0m\u001b[0;34m]\u001b[0m\u001b[0;34m\u001b[0m\u001b[0;34m\u001b[0m\u001b[0m\n\u001b[1;32m     10\u001b[0m     \u001b[0mrejet_iid\u001b[0m\u001b[0;34m.\u001b[0m\u001b[0mappend\u001b[0m\u001b[0;34m(\u001b[0m\u001b[0mint\u001b[0m\u001b[0;34m(\u001b[0m\u001b[0;36m0.05\u001b[0m \u001b[0;34m*\u001b[0m \u001b[0mlen\u001b[0m\u001b[0;34m(\u001b[0m\u001b[0msorted_piid\u001b[0m\u001b[0;34m)\u001b[0m\u001b[0;34m)\u001b[0m\u001b[0;34m/\u001b[0m\u001b[0mlen\u001b[0m\u001b[0;34m(\u001b[0m\u001b[0msorted_piid\u001b[0m\u001b[0;34m)\u001b[0m\u001b[0;34m)\u001b[0m\u001b[0;34m\u001b[0m\u001b[0;34m\u001b[0m\u001b[0m\n",
      "\u001b[0;32m<__array_function__ internals>\u001b[0m in \u001b[0;36msort\u001b[0;34m(*args, **kwargs)\u001b[0m\n",
      "\u001b[0;32m~/anaconda3/lib/python3.7/site-packages/numpy/core/fromnumeric.py\u001b[0m in \u001b[0;36msort\u001b[0;34m(a, axis, kind, order)\u001b[0m\n\u001b[1;32m    968\u001b[0m     \u001b[0;32melse\u001b[0m\u001b[0;34m:\u001b[0m\u001b[0;34m\u001b[0m\u001b[0;34m\u001b[0m\u001b[0m\n\u001b[1;32m    969\u001b[0m         \u001b[0ma\u001b[0m \u001b[0;34m=\u001b[0m \u001b[0masanyarray\u001b[0m\u001b[0;34m(\u001b[0m\u001b[0ma\u001b[0m\u001b[0;34m)\u001b[0m\u001b[0;34m.\u001b[0m\u001b[0mcopy\u001b[0m\u001b[0;34m(\u001b[0m\u001b[0morder\u001b[0m\u001b[0;34m=\u001b[0m\u001b[0;34m\"K\"\u001b[0m\u001b[0;34m)\u001b[0m\u001b[0;34m\u001b[0m\u001b[0;34m\u001b[0m\u001b[0m\n\u001b[0;32m--> 970\u001b[0;31m     \u001b[0ma\u001b[0m\u001b[0;34m.\u001b[0m\u001b[0msort\u001b[0m\u001b[0;34m(\u001b[0m\u001b[0maxis\u001b[0m\u001b[0;34m=\u001b[0m\u001b[0maxis\u001b[0m\u001b[0;34m,\u001b[0m \u001b[0mkind\u001b[0m\u001b[0;34m=\u001b[0m\u001b[0mkind\u001b[0m\u001b[0;34m,\u001b[0m \u001b[0morder\u001b[0m\u001b[0;34m=\u001b[0m\u001b[0morder\u001b[0m\u001b[0;34m)\u001b[0m\u001b[0;34m\u001b[0m\u001b[0;34m\u001b[0m\u001b[0m\n\u001b[0m\u001b[1;32m    971\u001b[0m     \u001b[0;32mreturn\u001b[0m \u001b[0ma\u001b[0m\u001b[0;34m\u001b[0m\u001b[0;34m\u001b[0m\u001b[0m\n\u001b[1;32m    972\u001b[0m \u001b[0;34m\u001b[0m\u001b[0m\n",
      "\u001b[0;31mAxisError\u001b[0m: axis -1 is out of bounds for array of dimension 0"
     ]
    }
   ],
   "source": [
    "\n",
    "pvaluesmarkov = np.load('pvalue_iid3_K2.npy')\n",
    "pvaluesiid = np.load('pvalue_markov3_K2.npy')\n",
    "\n",
    "    \n",
    "rejet_iid = []\n",
    "rejet_markov = []\n",
    "for i in range(3,13):\n",
    "    sorted_piid = np.sort(pvaluesiid[i-3])\n",
    "    limitechi2 = sorted_piid[int(0.05 * len(sorted_piid))]\n",
    "    rejet_iid.append(int(0.05 * len(sorted_piid))/len(sorted_piid))\n",
    "    rejet_markov.append(np.mean( pvaluesmarkov < limitechi2 ))\n",
    "\n",
    "    \n",
    "plt.plot(np.log10(list_n), rejet_iid, label='Null (Type I error)', linestyle='--')\n",
    "plt.plot(np.log10(list_n), rejet_markov, label='Alternative (Power)')\n",
    "plt.xlabel('$\\log_{10}(n)$',fontsize=16)\n",
    "plt.ylabel('% of rejection',fontsize=16)\n",
    "plt.legend(fontsize=16)\n",
    "#plt.savefig('hypo_testing2.png')"
   ]
  },
  {
   "cell_type": "code",
   "execution_count": 6,
   "metadata": {},
   "outputs": [
    {
     "name": "stderr",
     "output_type": "stream",
     "text": [
      "/home/qduchemi/anaconda3/lib/python3.7/site-packages/ipykernel_launcher.py:25: RuntimeWarning: invalid value encountered in less\n"
     ]
    },
    {
     "data": {
      "text/plain": [
       "<matplotlib.legend.Legend at 0x7f49ebdea650>"
      ]
     },
     "execution_count": 6,
     "metadata": {},
     "output_type": "execute_result"
    },
    {
     "data": {
      "image/png": "[encoded data removed]",
      "text/plain": [
       "<Figure size 432x288 with 1 Axes>"
      ]
     },
     "metadata": {
      "needs_background": "light"
     },
     "output_type": "display_data"
    }
   ],
   "source": [
    "list_n = [10*i for i in range(3,13)]\n",
    "pvaluesiid = np.zeros((10,50))\n",
    "pvaluesmarkov = np.zeros((10,50))\n",
    "count = 0\n",
    "for i in range(50):\n",
    "    try:\n",
    "        piid = np.load('pvalue_iid'+str(i+10)+'_K2.npy')\n",
    "        plat = np.load('pvalue_markov'+str(i+10)+'_K2.npy')\n",
    "        pvaluesiid[:,count] = piid\n",
    "        pvaluesmarkov[:,count] = plat\n",
    "        count += 1\n",
    "    except:\n",
    "        pass\n",
    "\n",
    "pvaluesmarkov = pvaluesmarkov[:,:count]\n",
    "pvaluesiid = pvaluesiid[:,:count]\n",
    "\n",
    "    \n",
    "rejet_iid = []\n",
    "rejet_markov = []\n",
    "for i in range(3,13):\n",
    "    sorted_piid = np.sort(pvaluesiid[i-3,:])\n",
    "    limitechi2 = sorted_piid[int(0.05 * len(sorted_piid))]\n",
    "    rejet_iid.append(int(0.05 * len(sorted_piid))/len(sorted_piid))\n",
    "    rejet_markov.append(np.mean( pvaluesmarkov < limitechi2 ))\n",
    "\n",
    "    \n",
    "plt.plot(np.log10(list_n), rejet_iid, label='Null (Type I error)', linestyle='--')\n",
    "plt.plot(np.log10(list_n), rejet_markov, label='Alternative (Power)')\n",
    "plt.xlabel('$\\log_{10}(n)$',fontsize=16)\n",
    "plt.ylabel('% of rejection',fontsize=16)\n",
    "plt.legend(fontsize=16)\n",
    "#plt.savefig('hypo_testing2.png')"
   ]
  },
  {
   "cell_type": "code",
   "execution_count": 13,
   "metadata": {},
   "outputs": [
    {
     "name": "stderr",
     "output_type": "stream",
     "text": [
      "/home/qduchemi/anaconda3/lib/python3.7/site-packages/ipykernel_launcher.py:33: RuntimeWarning: invalid value encountered in true_divide\n"
     ]
    }
   ],
   "source": [
    "def link_prediction_iid_case(nbnodes):    \n",
    "    link_probas = np.zeros(nbnodes)\n",
    "    P = np.array([[0.2, 0.8],[0.6, 0.4]])\n",
    "    Q = np.array([[0.8, 0.2],[0.1, 0.3]])\n",
    "    Giidn = 120\n",
    "    count = 0\n",
    "    for array in range(5,45):\n",
    "        try:\n",
    "            Giidclusters = np.load('clusters'+str(array)+'_n_'+str(Giidn)+'_K2.npy')\n",
    "\n",
    "            for i in range(nbnodes):\n",
    "                link_probas[i] += np.sum(P[Giidclusters[Giidn-1],:] * Q[Giidclusters[i],:]) \n",
    "            count += 1\n",
    "        except:\n",
    "            pass\n",
    "    link_probas /= count\n",
    "    return link_probas\n",
    "\n",
    "def link_prediction_estimates(nbnodes):    \n",
    "    link_probas = np.zeros(nbnodes)\n",
    "    Gn = 120\n",
    "    count = 0\n",
    "    for array in range(5,45):\n",
    "        try:\n",
    "            Gapprox_P = np.load('approx_P'+str(array)+'_n_'+str(Gn)+'_K2.npy')\n",
    "            Gclusters = np.load('clusters_approx'+str(array)+'_n_'+str(Gn)+'_K2.npy')\n",
    "            Gapprox_Q = np.load('approx_Q'+str(array)+'_n_'+str(Gn)+'_K2.npy')\n",
    "            for i in range(nbnodes):\n",
    "                link_probas[i] += np.sum(Gapprox_P[Gclusters_approx[Gn-1],:] * Gapprox_Q[Gclusters_approx[i],:])\n",
    "            count += 1\n",
    "        except:\n",
    "            pass\n",
    "    link_probas /= count\n",
    "    return link_probas\n",
    "\n",
    "def link_prediction_true(nbnodes):    \n",
    "    link_probas = np.zeros(nbnodes)\n",
    "    P = np.array([[0.2, 0.8],[0.6, 0.4]])\n",
    "    Q = np.array([[0.8, 0.2],[0.1, 0.3]])\n",
    "    Gn = 120\n",
    "    count = 0\n",
    "    for array in range(5,45):\n",
    "        try:\n",
    "            Gclusters = np.load('clusters'+str(array)+'_n_'+str(Gn)+'_K2.npy')\n",
    "            for i in range(nbnodes):\n",
    "                link_probas[i] += np.sum(P[Gclusters[Gn-1],:] * Q[Gclusters[i],:])\n",
    "            count += 1\n",
    "        except:\n",
    "            pass\n",
    "    link_probas /= count\n",
    "    return link_probas\n",
    "\n",
    "\n",
    "link_probas_iid_case = link_prediction_iid_case(10)\n",
    "link_probas_estimates = link_prediction_estimates(10)\n",
    "link_probas_true = link_prediction_true(10)"
   ]
  },
  {
   "cell_type": "code",
   "execution_count": 14,
   "metadata": {},
   "outputs": [
    {
     "data": {
      "text/plain": [
       "<matplotlib.legend.Legend at 0x7f49ebec4e10>"
      ]
     },
     "execution_count": 14,
     "metadata": {},
     "output_type": "execute_result"
    },
    {
     "data": {
      "image/png": "[encoded data removed]",
      "text/plain": [
       "<Figure size 432x288 with 1 Axes>"
      ]
     },
     "metadata": {
      "needs_background": "light"
     },
     "output_type": "display_data"
    }
   ],
   "source": [
    "plt.figure(1)\n",
    "ind = np.array([i for i in range(1,11)])\n",
    "plt.scatter(ind, link_probas_iid_case.reshape(-1),marker='*', label='iid case (SBM estimate)',s=100*np.ones(10))\n",
    "plt.scatter(ind, link_probas_true.reshape(-1),marker='x', label='Bayes optimal probabilities',s=100*np.ones(10))\n",
    "plt.scatter(ind, link_probas_estimates.reshape(-1), marker='+', label='MSBM estimate',s=100*np.ones(10))\n",
    "plt.xlabel('$10$ first nodes: $X_1, \\dots, X_{10}$',fontsize=14)\n",
    "plt.ylabel('Link probability', fontsize=14)\n",
    "plt.legend(fontsize=12,loc=2)"
   ]
  },
  {
   "cell_type": "code",
   "execution_count": 78,
   "metadata": {},
   "outputs": [],
   "source": [
    "   \n",
    "def add_liste(Level, Liste, Node, UP=True):\n",
    "    if Level==-1:\n",
    "        Liste = [Node] + Liste\n",
    "    elif Level >= len(Liste):\n",
    "        Liste.append([Node])\n",
    "        if UP:\n",
    "            Level -= 1\n",
    "        else:\n",
    "            Level += 1\n",
    "    else:\n",
    "        Liste.append([Node])\n",
    "        if UP:\n",
    "            Level -= 1\n",
    "        else:\n",
    "            Level += 1\n",
    "    return Level, Liste\n",
    "    \n",
    "def recu(node, level, graph, liste, node2ind, dejavu, dico_closest, nodes):\n",
    "    L = []\n",
    "    for ind in range(len(nodes)):\n",
    "        print(ind,len(nodes),node)\n",
    "        print(node2ind[node])\n",
    "        print(liste)\n",
    "        if graph[ind,node2ind[node]] and dejavu[ind]==0:\n",
    "            L.append(ind)\n",
    "    for ind in L:\n",
    "        if graph[ind,node2ind[node]] and dejavu[ind]==0:\n",
    "            level, liste = add_liste(level, liste, nodes[ind], UP=True)\n",
    "            dejavu[ind] = 1\n",
    "            graph, liste, dejavu = recu(nodes[ind], level, graph, liste, node2ind, dejavu, dico_closest, nodes)\n",
    "    return graph, liste, dejavu"
   ]
  },
  {
   "cell_type": "code",
   "execution_count": 79,
   "metadata": {},
   "outputs": [
    {
     "name": "stdout",
     "output_type": "stream",
     "text": [
      "0 13 0\n",
      "3\n",
      "[[32], [0]]\n",
      "1 13 0\n",
      "3\n",
      "[[32], [0]]\n",
      "2 13 0\n",
      "3\n",
      "[[32], [0]]\n",
      "3 13 0\n",
      "3\n",
      "[[32], [0]]\n",
      "4 13 0\n",
      "3\n",
      "[[32], [0]]\n",
      "5 13 0\n",
      "3\n",
      "[[32], [0]]\n",
      "6 13 0\n",
      "3\n",
      "[[32], [0]]\n",
      "7 13 0\n",
      "3\n",
      "[[32], [0]]\n",
      "8 13 0\n",
      "3\n",
      "[[32], [0]]\n",
      "9 13 0\n",
      "3\n",
      "[[32], [0]]\n",
      "10 13 0\n",
      "3\n",
      "[[32], [0]]\n",
      "11 13 0\n",
      "3\n",
      "[[32], [0]]\n",
      "12 13 0\n",
      "3\n",
      "[[32], [0]]\n",
      "LISTE [[32], [0]]\n",
      "0 13 59\n",
      "11\n",
      "[[34], [59]]\n",
      "1 13 59\n",
      "11\n",
      "[[34], [59]]\n",
      "2 13 59\n",
      "11\n",
      "[[34], [59]]\n",
      "3 13 59\n",
      "11\n",
      "[[34], [59]]\n",
      "4 13 59\n",
      "11\n",
      "[[34], [59]]\n",
      "5 13 59\n",
      "11\n",
      "[[34], [59]]\n",
      "6 13 59\n",
      "11\n",
      "[[34], [59]]\n",
      "7 13 59\n",
      "11\n",
      "[[34], [59]]\n",
      "8 13 59\n",
      "11\n",
      "[[34], [59]]\n",
      "9 13 59\n",
      "11\n",
      "[[34], [59]]\n",
      "10 13 59\n",
      "11\n",
      "[[34], [59]]\n",
      "11 13 59\n",
      "11\n",
      "[[34], [59]]\n",
      "12 13 59\n",
      "11\n",
      "[[34], [59]]\n",
      "0 13 72\n",
      "7\n",
      "[[34], [59], [72]]\n",
      "1 13 72\n",
      "7\n",
      "[[34], [59], [72]]\n",
      "2 13 72\n",
      "7\n",
      "[[34], [59], [72]]\n",
      "3 13 72\n",
      "7\n",
      "[[34], [59], [72]]\n",
      "4 13 72\n",
      "7\n",
      "[[34], [59], [72]]\n",
      "5 13 72\n",
      "7\n",
      "[[34], [59], [72]]\n",
      "6 13 72\n",
      "7\n",
      "[[34], [59], [72]]\n",
      "7 13 72\n",
      "7\n",
      "[[34], [59], [72]]\n",
      "8 13 72\n",
      "7\n",
      "[[34], [59], [72]]\n",
      "9 13 72\n",
      "7\n",
      "[[34], [59], [72]]\n",
      "10 13 72\n",
      "7\n",
      "[[34], [59], [72]]\n",
      "11 13 72\n",
      "7\n",
      "[[34], [59], [72]]\n",
      "12 13 72\n",
      "7\n",
      "[[34], [59], [72]]\n",
      "0 13 12\n",
      "8\n",
      "[[34], [59], [72], [12]]\n",
      "1 13 12\n",
      "8\n",
      "[[34], [59], [72], [12]]\n",
      "2 13 12\n",
      "8\n",
      "[[34], [59], [72], [12]]\n",
      "3 13 12\n",
      "8\n",
      "[[34], [59], [72], [12]]\n",
      "4 13 12\n",
      "8\n",
      "[[34], [59], [72], [12]]\n",
      "5 13 12\n",
      "8\n",
      "[[34], [59], [72], [12]]\n",
      "6 13 12\n",
      "8\n",
      "[[34], [59], [72], [12]]\n",
      "7 13 12\n",
      "8\n",
      "[[34], [59], [72], [12]]\n",
      "8 13 12\n",
      "8\n",
      "[[34], [59], [72], [12]]\n",
      "9 13 12\n",
      "8\n",
      "[[34], [59], [72], [12]]\n",
      "10 13 12\n",
      "8\n",
      "[[34], [59], [72], [12]]\n",
      "11 13 12\n",
      "8\n",
      "[[34], [59], [72], [12]]\n",
      "12 13 12\n",
      "8\n",
      "[[34], [59], [72], [12]]\n",
      "LISTE [[34], [59], [72], [12]]\n",
      "0 13 3\n",
      "5\n",
      "[[68], [3]]\n",
      "1 13 3\n",
      "5\n",
      "[[68], [3]]\n",
      "2 13 3\n",
      "5\n",
      "[[68], [3]]\n",
      "3 13 3\n",
      "5\n",
      "[[68], [3]]\n",
      "4 13 3\n",
      "5\n",
      "[[68], [3]]\n",
      "5 13 3\n",
      "5\n",
      "[[68], [3]]\n",
      "6 13 3\n",
      "5\n",
      "[[68], [3]]\n",
      "7 13 3\n",
      "5\n",
      "[[68], [3]]\n",
      "8 13 3\n",
      "5\n",
      "[[68], [3]]\n",
      "9 13 3\n",
      "5\n",
      "[[68], [3]]\n",
      "10 13 3\n",
      "5\n",
      "[[68], [3]]\n",
      "11 13 3\n",
      "5\n",
      "[[68], [3]]\n",
      "12 13 3\n",
      "5\n",
      "[[68], [3]]\n",
      "LISTE [[68], [3]]\n",
      "0 13 62\n",
      "12\n",
      "[[7], [62]]\n",
      "1 13 62\n",
      "12\n",
      "[[7], [62]]\n",
      "2 13 62\n",
      "12\n",
      "[[7], [62]]\n",
      "3 13 62\n",
      "12\n",
      "[[7], [62]]\n",
      "4 13 62\n",
      "12\n",
      "[[7], [62]]\n",
      "5 13 62\n",
      "12\n",
      "[[7], [62]]\n",
      "6 13 62\n",
      "12\n",
      "[[7], [62]]\n",
      "7 13 62\n",
      "12\n",
      "[[7], [62]]\n",
      "8 13 62\n",
      "12\n",
      "[[7], [62]]\n",
      "9 13 62\n",
      "12\n",
      "[[7], [62]]\n",
      "10 13 62\n",
      "12\n",
      "[[7], [62]]\n",
      "11 13 62\n",
      "12\n",
      "[[7], [62]]\n",
      "12 13 62\n",
      "12\n",
      "[[7], [62]]\n",
      "LISTE [[7], [62]]\n",
      "0 13 13\n",
      "9\n",
      "[[7], [62]]\n",
      "1 13 13\n",
      "9\n",
      "[[7], [62]]\n",
      "2 13 13\n",
      "9\n",
      "[[7], [62]]\n",
      "3 13 13\n",
      "9\n",
      "[[7], [62]]\n",
      "4 13 13\n",
      "9\n",
      "[[7], [62]]\n",
      "5 13 13\n",
      "9\n",
      "[[7], [62]]\n",
      "6 13 13\n",
      "9\n",
      "[[7], [62]]\n",
      "7 13 13\n",
      "9\n",
      "[[7], [62]]\n",
      "8 13 13\n",
      "9\n",
      "[[7], [62]]\n",
      "9 13 13\n",
      "9\n",
      "[[7], [62]]\n",
      "10 13 13\n",
      "9\n",
      "[[7], [62]]\n",
      "11 13 13\n",
      "9\n",
      "[[7], [62]]\n",
      "12 13 13\n",
      "9\n",
      "[[7], [62]]\n",
      "0 13 1\n",
      "1\n",
      "[[78], [1]]\n",
      "1 13 1\n",
      "1\n",
      "[[78], [1]]\n",
      "2 13 1\n",
      "1\n",
      "[[78], [1]]\n",
      "3 13 1\n",
      "1\n",
      "[[78], [1]]\n",
      "4 13 1\n",
      "1\n",
      "[[78], [1]]\n",
      "5 13 1\n",
      "1\n",
      "[[78], [1]]\n",
      "6 13 1\n",
      "1\n",
      "[[78], [1]]\n",
      "7 13 1\n",
      "1\n",
      "[[78], [1]]\n",
      "8 13 1\n",
      "1\n",
      "[[78], [1]]\n",
      "9 13 1\n",
      "1\n",
      "[[78], [1]]\n",
      "10 13 1\n",
      "1\n",
      "[[78], [1]]\n",
      "11 13 1\n",
      "1\n",
      "[[78], [1]]\n",
      "12 13 1\n",
      "1\n",
      "[[78], [1]]\n",
      "LISTE [[78], [1]]\n"
     ]
    }
   ],
   "source": [
    "\"\"\"Kmedoid algorithm that performs a rounding step on the rows of $\\hat{B}$.\"\"\"\n",
    "# Step 1 : consolidating locations\n",
    "\n",
    "## It consists in moving revelantly demand.        \n",
    "## All locations with positive demand will be far from eachother, garanteeing:\n",
    "##    - not increase the cost of the fractional solution\n",
    "##    - each feasible integer solution for the modified instance can be converted to a feasible integer \n",
    "##      solution for the original instance with a small added cost\n",
    "d = np.ones(Giid.n)\n",
    "Giid.barx = Giid.barx * (1* (Giid.barx>0))\n",
    "barC = np.diag(Giid.C@Giid.barx)\n",
    "for j in range(Giid.n):\n",
    "    for i in range(j):\n",
    "        if d[i]>0 and Giid.C[i,j]<=4*barC[j]:\n",
    "            d[i] += d[j]\n",
    "            d[j] = 0\n",
    "\n",
    "# Step 2 : Consolidating centers\n",
    "\n",
    "## Construction of a 1/2-resticted solution\n",
    "## y_i=0 if d[i]=0 and y_i >=1/2 otherwise (without paying this too much). \n",
    "px = np.copy(Giid.barx)\n",
    "py = np.copy(Giid.bary)\n",
    "# Closest[i] will be the closest node to i (except i), let's say j, satisfying d[j]>0\n",
    "closest = []\n",
    "dico_weights = {}\n",
    "sorted_lines_C = np.zeros((Giid.n,Giid.n))\n",
    "for i in range(Giid.n):\n",
    "    ls = np.argsort(Giid.C[i,:])\n",
    "    sorted_lines_C[i,:] = ls\n",
    "    j = 0\n",
    "    while (d[int(ls[j])]==0 or i==int(ls[j])):\n",
    "        j += 1\n",
    "    closest.append(ls[j])\n",
    "\n",
    "    # We only move the nodes with a null demand and a partial open center (i.e y>0) and thus that can't be a center            \n",
    "    if d[i]==0 and py[i]>0:\n",
    "        # We assign i to the closest point j such that d[j] > 0             \n",
    "        py[ls[j]] = min(1 , py[i] + py[ls[j]])\n",
    "        py[i] = 0\n",
    "        for pj in range(Giid.n):\n",
    "            px[ls[j],pj] += px[i,pj]\n",
    "            px[i,pj] = 0\n",
    "\n",
    "    if d[i]>0:\n",
    "        dico_weights[i] = d[i]*Giid.C[closest[i],i]\n",
    "\n",
    "## Construction of a (1/2-1)-integral solution\n",
    "## y_i=0 if d[i]=0 and y_i =1/2 or 1 otherwise (without paying this too much). \n",
    "pn = len(dico_weights)\n",
    "haty = np.zeros(Giid.n)\n",
    "hatx = np.zeros((Giid.n,Giid.n))\n",
    "# We sort the locations j \\in N' (ie such that d[j]>0) in decreasing order of their weight\n",
    "sorted_dico_weights = {k: v for k, v in sorted(dico_weights.items(), key=lambda item: item[1], reverse=True)}\n",
    "list_keys = sorted_dico_weights.keys() #list of nodes in N' (i.e. with d[i]>0)\n",
    "for ind, j in enumerate(list_keys):\n",
    "    if ind < 2*Giid.K-pn:\n",
    "        haty[j] = 1\n",
    "    else:\n",
    "        haty[j] = 1/2\n",
    "        hatx[closest[j],j] = 1/2\n",
    "    hatx[j,j] = haty[j]\n",
    "\n",
    "# Step 3 : rounding a {1/2, 1}-integral solution to an integral one\n",
    "centers = [k for k in list_keys if haty[k] == 1]\n",
    "odd_level = []\n",
    "even_level = []\n",
    "dico_closest = {i:closest[i] for i in list_keys if haty[i]==1/2}\n",
    "import copy\n",
    "\n",
    "dic = dico_closest.copy()\n",
    "for key,value in dic.items():\n",
    "    try:\n",
    "        if dico_closest[value]==key:\n",
    "            del dico_closest[key]\n",
    "    except:\n",
    "        pass\n",
    "\n",
    "keys = list(dico_closest.keys())\n",
    "values = list(dico_closest.values())\n",
    "nodes = list(set(keys+values))\n",
    "graph = np.zeros((len(nodes),len(nodes)))\n",
    "node2ind = {node:ind for ind,node in enumerate(nodes)}\n",
    "for ind,key in enumerate(keys):\n",
    "        graph[node2ind[key],node2ind[values[ind]]] = 1\n",
    "\n",
    "dejavu = np.zeros(len(nodes))\n",
    "\n",
    "\n",
    "\n",
    "\n",
    "while len(dejavu)!=np.sum(dejavu):\n",
    "        notfound = True\n",
    "        indj = 0\n",
    "        level = 0\n",
    "        liste = []\n",
    "        while notfound and indj<len(nodes):\n",
    "                if np.sum(graph[:,indj])==0 and np.sum(graph[indj,:])>0 and dejavu[indj]==0:\n",
    "                        notfound = False\n",
    "                        j = nodes[indj]\n",
    "                        liste.append([j])\n",
    "                        s_j = dico_closest[j]\n",
    "                        liste.append([s_j])\n",
    "                        inds_j = node2ind[s_j]\n",
    "                        dejavu[indj] = 1\n",
    "                        dejavu[inds_j] = 1\n",
    "                        graph, liste, dejavu = recu(s_j, 1, graph, liste, node2ind, dejavu, dico_closest, nodes)\n",
    "                        level = 2\n",
    "                        j = s_j\n",
    "                        indj = inds_j\n",
    "                        print('LISTE',liste)\n",
    "                        if np.sum(graph[indj,:])>0:\n",
    "                            s_j = dico_closest[j]\n",
    "                            inds_j = node2ind[s_j]\n",
    "                            if dejavu[inds_j]==0:\n",
    "                                dejavu[inds_j] = 1\n",
    "                                graph, liste, dejavu = recu(s_j, level-1, graph, liste, node2ind, dejavu, dico_closest, nodes)\n",
    "                                level, liste = add_liste(level, liste, s_j, UP=False)\n",
    "                                j = s_j\n",
    "                                indj = inds_j\n",
    "                indj += 1\n",
    "        for ind in range(len(liste)):\n",
    "            if ind % 2:\n",
    "                even_level += liste[ind]\n",
    "            else:\n",
    "                odd_level += liste[ind]\n",
    "            \n",
    "                \n",
    "Giid.num_centers= len(centers)\n",
    "if len(odd_level)<len(even_level):\n",
    "    centers = centers + list(set(odd_level))\n",
    "else:\n",
    "    centers = centers + list(set(even_level))\n",
    "Giid.num_centersbis = len(centers)\n",
    "# -1 is assigned to the nodes that are not centers. Otherwise, we numerote them.\n",
    "num_center = -np.ones(Giid.n)\n",
    "for ind, j in enumerate(centers):\n",
    "    num_center[j] = int(ind)\n",
    "\n",
    " "
   ]
  },
  {
   "cell_type": "code",
   "execution_count": 82,
   "metadata": {},
   "outputs": [
    {
     "data": {
      "text/plain": [
       "([32, 34, 72, 68, 7, 13, 78], [0, 59, 12, 3, 62, 1])"
      ]
     },
     "execution_count": 82,
     "metadata": {},
     "output_type": "execute_result"
    }
   ],
   "source": [
    "odd_level,even_level"
   ]
  },
  {
   "cell_type": "code",
   "execution_count": 39,
   "metadata": {},
   "outputs": [
    {
     "name": "stdout",
     "output_type": "stream",
     "text": [
      "{0: 0, 1: 1, 3: 2, 70: 3, 43: 4, 13: 5, 77: 6, 21: 7, 54: 8}\n",
      "[54] [0]\n",
      "{1: 1, 3: 2, 70: 3, 43: 4, 13: 5, 21: 7}\n",
      "{1: 1, 3: 2, 70: 3, 43: 4, 13: 5, 21: 7}\n",
      "[54, 21] [0, 77, 1]\n",
      "{3: 2, 70: 3, 43: 4, 13: 5}\n",
      "{3: 2, 70: 3, 43: 4, 13: 5}\n",
      "[54, 21, 13] [0, 77, 1, 70]\n",
      "{3: 2, 43: 4}\n",
      "{3: 2, 43: 4}\n",
      "[54, 21, 13, 43] [0, 77, 1, 70, 3]\n"
     ]
    }
   ],
   "source": [
    "\n",
    "d = np.ones(G.n)\n",
    "G.barx = G.barx * (1* (G.barx>0))\n",
    "barC = np.diag(G.C@G.barx)\n",
    "for j in range(G.n):\n",
    "    for i in range(j):\n",
    "        if d[i]>0 and G.C[i,j]<=4*barC[j]:\n",
    "            d[i] += d[j]\n",
    "            d[j] = 0\n",
    "\n",
    "# Step 2 : Consolidating centers\n",
    "\n",
    "## Construction of a 1/2-resticted solution\n",
    "## y_i=0 if d[i]=0 and y_i >=1/2 otherwise (without paying this too much). \n",
    "px = np.copy(G.barx)\n",
    "py = np.copy(G.bary)\n",
    "# Closest[i] will be the closest node to i (except i), let's say j, satisfying d[j]>0\n",
    "closest = []\n",
    "dico_weights = {}\n",
    "sorted_lines_C = np.zeros((G.n,G.n))\n",
    "for i in range(G.n):\n",
    "    ls = np.argsort(G.C[i,:])\n",
    "    sorted_lines_C[i,:] = ls\n",
    "    j = 0\n",
    "    while (d[int(ls[j])]==0 or i==int(ls[j])):\n",
    "        j += 1\n",
    "    closest.append(ls[j])\n",
    "\n",
    "    # We only move the nodes with a null demand and a partial open center (i.e y>0) and thus that can't be a center            \n",
    "    if d[i]==0 and py[i]>0:\n",
    "        # We assign i to the closest point j such that d[j] > 0             \n",
    "        py[ls[j]] = min(1 , py[i] + py[ls[j]])\n",
    "        py[i] = 0\n",
    "        for pj in range(G.n):\n",
    "            px[ls[j],pj] += px[i,pj]\n",
    "            px[i,pj] = 0\n",
    "\n",
    "    if d[i]>0:\n",
    "        dico_weights[i] = d[i]*G.C[closest[i],i]\n",
    "\n",
    "## Construction of a (1/2-1)-integral solution\n",
    "## y_i=0 if d[i]=0 and y_i =1/2 or 1 otherwise (without paying this too much). \n",
    "pn = len(dico_weights)\n",
    "haty = np.zeros(G.n)\n",
    "hatx = np.zeros((G.n,G.n))\n",
    "# We sort the locations j \\in N' (ie such that d[j]>0) in decreasing order of their weight\n",
    "sorted_dico_weights = {k: v for k, v in sorted(dico_weights.items(), key=lambda item: item[1], reverse=True)}\n",
    "list_keys = sorted_dico_weights.keys() #list of nodes in N' (i.e. with d[i]>0)\n",
    "for ind, j in enumerate(list_keys):\n",
    "    if ind < 2*G.K-pn:\n",
    "        haty[j] = 1\n",
    "    else:\n",
    "        haty[j] = 1/2\n",
    "        hatx[closest[j],j] = 1/2\n",
    "    hatx[j,j] = haty[j]\n",
    "\n",
    "# Step 3 : rounding a {1/2, 1}-integral solution to an integral one\n",
    "centers = [k for k in list_keys if haty[k] == 1]\n",
    "odd_level = []\n",
    "even_level = []\n",
    "dico_closest = {i:closest[i] for i in list_keys if haty[i]==1/2}\n",
    "import copy\n",
    "\n",
    "keys = list(dico_closest.keys())\n",
    "values = list(dico_closest.values())\n",
    "\n",
    "\n",
    "nodes = list(set(keys+values))\n",
    "graph = np.zeros((len(nodes),len(nodes)))\n",
    "node2ind = {node:ind for ind,node in enumerate(nodes)}\n",
    "indloops = []\n",
    "for ind,key in enumerate(keys):\n",
    "    graph[node2ind[key],node2ind[values[ind]]] = 1\n",
    "\n",
    "\n",
    "\n",
    "while len(node2ind)>0:\n",
    "    print((node2ind))\n",
    "    indices = node2ind.values()\n",
    "    notfound = True\n",
    "    indj = 0\n",
    "    level = 0\n",
    "    while notfound and indj<len(nodes):\n",
    "        if np.sum(graph[:,indj])==0 and np.sum(graph[indj,:])>0:\n",
    "            notfound = False\n",
    "            j = nodes[indj]\n",
    "            even_level.append(j)\n",
    "            s_j = dico_closest[j]\n",
    "            odd_level.append(s_j)\n",
    "            inds_j = node2ind[s_j]\n",
    "            graph[indj,inds_j] = 0\n",
    "            graph[inds_j,indj] = 0\n",
    "            level = 2\n",
    "            del node2ind[j]\n",
    "            del node2ind[s_j]\n",
    "            j = s_j\n",
    "            indj = inds_j\n",
    "        elif np.sum(graph[indj,:])>0:\n",
    "            rescue = indj\n",
    "            indj += 1\n",
    "        else:\n",
    "            indj += 1\n",
    "    if notfound:\n",
    "        indj = rescue\n",
    "        j = nodes[indj]\n",
    "        graph[indj,node2ind[dico_closest[j]]] = 0\n",
    "    else:\n",
    "        print(odd_level, even_level)\n",
    "        while np.sum(graph[indj,:])>0:\n",
    "            s_j = dico_closest[j]\n",
    "            inds_j = node2ind[s_j]\n",
    "            if level%2 == 0:\n",
    "                even_level.append(s_j)\n",
    "            else:\n",
    "                odd_level.append(s_j)\n",
    "            level += 1\n",
    "            graph[indj,inds_j] = 0\n",
    "            graph[inds_j,indj] = 0\n",
    "            del node2ind[s_j]\n",
    "            j = s_j\n",
    "            indj = inds_j\n",
    "\n",
    "\n",
    "\n",
    "\n",
    "G.num_centers= len(centers)\n",
    "if len(odd_level)<len(even_level):\n",
    "    centers = centers + list(set(odd_level))\n",
    "else:\n",
    "    centers = centers + list(set(even_level))\n",
    "G.num_centersbis = len(centers)\n",
    "# -1 is assigned to the nodes that are not centers. Otherwise, we numerote them.\n",
    "num_center = -np.ones(G.n)\n",
    "for ind, j in enumerate(centers):\n",
    "    num_center[j] = int(ind)\n",
    "\n",
    "G.A = np.zeros((G.n,G.K))\n",
    "for i in range(G.n):\n",
    "    if num_center[i] == -1:\n",
    "        ls = sorted_lines_C[i,:]\n",
    "        count = 0\n",
    "        while num_center[int(ls[count])] == -1:\n",
    "            count += 1\n",
    "        G.A[i,int(num_center[int(ls[count])])] = 1\n",
    "    else:\n",
    "        G.A[i,int(num_center[i])] = 1\n",
    "\n",
    "G.clusters_approx = []\n",
    "for i in range(G.n):\n",
    "    for j in range(G.K):\n",
    "        if G.A[i,j]==1:\n",
    "            G.clusters_approx.append(j)"
   ]
  },
  {
   "cell_type": "code",
   "execution_count": 40,
   "metadata": {},
   "outputs": [
    {
     "data": {
      "text/plain": [
       "[13, 43, 21, 54]"
      ]
     },
     "execution_count": 40,
     "metadata": {},
     "output_type": "execute_result"
    }
   ],
   "source": [
    "centers"
   ]
  }
 ],
 "metadata": {
  "colab": {
   "collapsed_sections": [],
   "name": "experiments-markovian-SBM.ipynb",
   "provenance": []
  },
  "kernelspec": {
   "display_name": "Python 3",
   "language": "python",
   "name": "python3"
  },
  "language_info": {
   "codemirror_mode": {
    "name": "ipython",
    "version": 3
   },
   "file_extension": ".py",
   "mimetype": "text/x-python",
   "name": "python",
   "nbconvert_exporter": "python",
   "pygments_lexer": "ipython3",
   "version": "3.7.4"
  }
 },
 "nbformat": 4,
 "nbformat_minor": 1
}
