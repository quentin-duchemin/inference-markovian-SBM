{
 "cells": [
  {
   "cell_type": "markdown",
   "metadata": {
    "colab_type": "text",
    "id": "KUb3gmPul3OP"
   },
   "source": [
    "# Inference in the Stochastic Block Model with a Markovian assignment of the communities"
   ]
  },
  {
   "cell_type": "code",
   "execution_count": 1,
   "metadata": {},
   "outputs": [],
   "source": [
    "import markovianSBM\n",
    "from markovianSBM.SBM import SBM\n",
    "import numpy as np\n",
    "import pandas as pd\n",
    "import matplotlib.pyplot as plt\n",
    "import scipy as sc"
   ]
  },
  {
   "cell_type": "markdown",
   "metadata": {
    "colab_type": "text",
    "id": "ha9ZwbIQl3Od"
   },
   "source": [
    "# Introduction\n",
    "\n",
    "\n",
    "The Stochastic Block Model (SBM) is a famous random graph model where a community in $[K]=\\{1, \\dots , K\\}$ (where $K\\geq 2$ is an integer) is assigned to each node $i \\in [n]$ of a graph. Once the communities have been assigned, an edge between a given pair of vertices will be present in the graph with a probabililty that only depends of the communities of the two nodes considered. We propose a new extension of the Stochastic Block Model where the communities of the nodes in the graph are assigned through a Markovian dynamic. In our paper, we provide a partial recovery bound : we prove that the algorithm leads to a classification error that decays exponentially fast with respect to an appropriate signal to noise ratio (SNR). We provide consistent estimation of the parameters of our model when the average degree of the nodes is of order $\\log(n)$ or higher.\n",
    "\n",
    "\n",
    "In the following, we give the reader the opportunity to understand how to use our algorithm that we have implemented\n",
    "and to reproduce results that have been presented in our paper.\n",
    "\n",
    "\n",
    "# 1) Model\n",
    "\n",
    "\n",
    "We start by ordering the $n$ nodes in $V$ and without loss of generality, we consider the increasing order of the integers $1,2, \\dots,n$. For all $i \\in [n]$, we denote $C_i \\in [K]$ the random variable representing the community of the node $i$ and we consider that they satistify the following assumption. $(C_i)_{i  \\in [n]}$ is a positive recurrent Markov chain on the finite space $[K]$ with invariant probability $\\pi$, with transition matrix $P \\in \\mathbb{R}^{K \\times K}$ and initial distribution $\\pi$. \n",
    "\n",
    "\n",
    "We assign communities as follows:\n",
    "$$\n",
    "\\begin{align*}\n",
    "&C_1 \\sim \\pi \\\\\n",
    "&\\text{For }\\;i=1\\; \\dots\\; (n-1) \\; \\text{ Do} \\\\\n",
    "&\\qquad C_{i+1} \\sim P_{C_{i},:}.\\\\\n",
    "& \\text{EndFor.}\n",
    "\\end{align*}\n",
    "$$\n",
    "\n",
    "Once the community of each node is assigned, we draw an edge between the nodes $i$ and $j$ with probability $Q_{C_i,C_j}$\n",
    "$$X_{i,j} \\sim \\text{Ber}(Q_{C_i,C_j}) \\quad \\text{ with }\\quad Q:=\\alpha_n Q_0.$$\n",
    "\n",
    "Here, $Q_0 \\in [0,1]^{K \\times K}$ and $\\alpha_n \\in (0,1)$  is varying with $n$. \n",
    "\n",
    "---\n",
    "\n",
    "Given two partitions $\\hat{G}= (\\hat{G}_1, \\dots , \\hat{G}_K)$ and $G = (G_1, \\dots ,G_K)$ of $[n]$ into $K$ non-void groups, we define the proportion of non-matching points $$\\text{err}(\\hat{G},G) = \\min_{\\sigma \\in \\mathcal{S}_K} \\frac{1}{2n} \\sum_{k=1}^K \\left|\n",
    "\\hat{G}_k \\; \\Delta \\; G_{\\sigma(k)} \\right| ,$$\n",
    "\n",
    "where $A\\;\\Delta \\; B$ represents the symmetric difference between the two sets $A$ and $B$ and $\\mathcal{S}_K$\n",
    "represents the set of permutations on $\\{1, \\dots ,K\\}$. When $\\hat{G}$ is a partition estimating $G$, we\n",
    "refer to $\\text{err}(\\hat{G},G)$ as the misclassification proportion (or error) of the clustering.\n",
    "\n",
    "\n",
    "# 2) Algorithm\n",
    "\n",
    "\n",
    "Peng and Wei in [PW07](http://www.optimization-online.org/DB_FILE/2005/04/1114.pdf) showed that any partition $G$ of $[n]$ can be uniquely represented by a $n \\times n$ matrix $B^* \\in \\mathbb{R}^{n\\times n}$ defined by \n",
    "\n",
    "\\begin{equation}(*_1)\\qquad \\forall i,j \\in [n], \\quad B_{i,j}^*=\\left\\{\n",
    "    \\begin{array}{ll} \\displaystyle\n",
    "        \\frac{1}{m_k}& \\mbox{if } i \\text{ and } j \\text{ belong to the same community } k \\in [K] \\\\\n",
    "        0 & \\text{ otherwise.}\n",
    "    \\end{array}\n",
    "\\right. \\end{equation}\n",
    "\n",
    "The set of such matrices $B^*$ that can be built from a particular partition of $[n]$ in $K$ groups is defined by \n",
    "\n",
    "$$\\mathcal{S}=\\{B\\in \\mathbb{R}^{n \\times n}:  \\text{ symmetric}, \\; B^2=B, \\; \\text{Tr}(B) =K, \\; B\\textbf{1} =  \\textbf{1}, \\;  B\\geq0\\},$$\n",
    "\n",
    "where $\\textbf{1} \\in \\mathbb{R}^n$ is the $n$-dimensional vector with all entries equal to one and where $B \\geq 0$ means that all entries of $B$ are nonnegative. Peng and Wei [PW07](http://www.optimization-online.org/DB_FILE/2005/04/1114.pdf) proved that solving the $K$-means problem\n",
    "\n",
    "$$(*_2) \\qquad \\text{Crit}(G) = \\sum_{k=1}^K \\sum_{i \\in G_k} \\Bigg\\| X_{:,i} - \\frac{1}{|G_k|}\\sum_{j \\in G_k} X_{:,j}  \\Bigg\\|^2  ,$$\n",
    "\n",
    "\n",
    "is equivalent to \\begin{equation} \\underset{B \\in \\mathcal{S}}{\\max} \\; \\langle XX^{\\top}, B \\rangle. \\label{Kmeans}\\end{equation} \n",
    "\n",
    "Writing $B^*$ an optimal solution of $(*_2)$, an optimal solution for the $K$-means problem is obtained by gathering indices $i,j \\in [n]$ such that $B^*_{i,j}\\neq 0$. The set $\\mathcal{S}$ is not convex and the authors of [GV18](https://arxiv.org/abs/1807.07547) propose the following relaxation of problem $(*_2)$\n",
    "\n",
    "\\begin{equation} \\hat{B} \\in \\underset{B \\in \\mathcal{C}_{\\beta}}{\\arg \\max} \\; \\langle XX^{\\top},B \\rangle, \\label{relaxed-SDP}\\end{equation}\n",
    "\n",
    "\n",
    "where\n",
    "$$(*_3) \\qquad \\mathcal{C}_{\\beta}:=\\{B\\in \\mathbb{R}^{n \\times n}:  \\text{ symmetric}, \\; \\text{Tr}(B) =K, \\; B\\textbf{1} =  \\textbf{1}, 0 \\leq B \\leq \\beta\\} \\quad \\text{ with } \\quad  K/n \\leq \\beta \\leq 1. $$\n",
    "\n",
    "\n",
    "At this step, we cannot ensure that $\\hat{B}$ belongs to $\\mathcal{S}$ and a final refinement is necessary to end up with a clustering of the nodes of the graph. This final rounding step is achieved by running a $K$-medoid algorithm on the rows of $\\hat{B}$. Given a partition $\\{G_1, \\dots , G_k\\}$ of the $n$ nodes of the graph into $K$ communities, we define the related membership matrix $A \\in \\mathbb{R}^{n \\times K}$ where $A_{i,k} = \\mathbb{1}_{i \\in G_k}$.\n",
    "\n",
    "Working on the rows of $\\hat{B}$, a $K$-medoid algorithm tries to find efficiently a pair $(\\hat{A},\\hat{M})$ with $\\hat{A} \\in \\mathcal{A}_K$, $\\hat{M} \\in \\mathbb{R}^{K \\times n}$, $\\text{Rows}(\\hat{M}) \\subset \\text{Rows}(\\hat{B})$ satisfying for some $\\rho >0$\n",
    "\\begin{equation}(*_4) \\qquad |\\hat{A}\\hat{M}-\\hat{B}|_1 \\leq \\rho \\underset{A \\in \\mathcal{A}_K, \\text{Rows}(M) \\subset \\text{Rows}(\\hat{B})}{\\min}\\;|AM-\\hat{B}|_1,\\label{medoid}\\end{equation}\n",
    "where ${A}_K$ is the set of all possible membership matrices and  $\\text{Rows}(\\hat{B})$ the set of all rows of $\\hat{B}$.\n",
    "\n",
    "We end up with the following algorithm.\n",
    "\n",
    "\n",
    "**Algorithm Description**\n",
    "\n",
    "1. Compute the density of the graph $d_{X}=\\frac{2|E|}{n(n-1)}$ and set $\\hat{\\beta} = \\frac{K^3}{n}e^{2nd_X}\\wedge 1$.\n",
    "2. Find $\\hat{B} \\in  \\underset{B \\in \\mathcal{C}_{\\hat{\\beta}}}{\\arg \\max} \\; \\langle XX^{\\top},B \\rangle$ (using for example the interior-point method).\n",
    "3. Run the $K$-medoids algorithm from [CGTS02](https://www.sciencedirect.com/science/article/pii/S0022000002918829)  on the rows of $\\hat{B}$. Note $\\hat{A} \\in \\{0,1\\}^{n \\times K}$ the membership matrix obtained.\n",
    "4. Define $\\forall k \\in [K], \\quad \\hat{G}_k = \\{ i\\in [n] \\; : \\; \\hat{A}_{i,k}=1 \\}$ and $\\forall i \\in [n], \\quad \\hat{C}_i=k$ where $k \\in [K]$ is such that $\\hat{A}_{i,k}=1$."
   ]
  },
  {
   "cell_type": "markdown",
   "metadata": {
    "colab_type": "text",
    "id": "nRUxML9Vl3Oj"
   },
   "source": [
    "# 3) Reproducing results of our paper\n",
    "\n",
    "### 4.1) $2$ communities : Estimation of the transition matrix of the Markov chain"
   ]
  },
  {
   "cell_type": "code",
   "execution_count": 0,
   "metadata": {
    "colab": {},
    "colab_type": "code",
    "id": "X0224hvG8aYJ"
   },
   "outputs": [],
   "source": [
    "K = 2\n",
    "P = np.array([[0.2, 0.8],[0.6, 0.4]])\n",
    "Q = np.array([[0.8, 0.2],[0.1, 0.3]])"
   ]
  },
  {
   "cell_type": "markdown",
   "metadata": {
    "colab_type": "text",
    "id": "mTCcinAYL_3L"
   },
   "source": [
    "###### Evolution of the Recall and the Precision with the average degree\n"
   ]
  },
  {
   "cell_type": "code",
   "execution_count": 0,
   "metadata": {
    "colab": {},
    "colab_type": "code",
    "id": "oBNWyCgq9Rz7"
   },
   "outputs": [],
   "source": [
    "lsgamma = np.logspace(-1,0,15)\n",
    "lsrecall = []\n",
    "lsprecision = []\n",
    "for gamma in lsgamma:\n",
    "    G = SBM(100,K, framework='markov', P=P, Q=gamma*Q)\n",
    "    G.estimate_partition()\n",
    "    tn, fp, fn, tp =  confusion_matrix(G.clusters,G.clusters_approx).ravel()\n",
    "    lsrecall.append(tp/(tp+fn))\n",
    "    lsprecision.append(tp/(tp+fp))"
   ]
  },
  {
   "cell_type": "code",
   "execution_count": 0,
   "metadata": {
    "colab": {
     "base_uri": "https://localhost:8080/",
     "height": 299
    },
    "colab_type": "code",
    "id": "G76el6JbEZk-",
    "outputId": "1bdd5781-ea29-4f96-a12e-f310e3b3fc53"
   },
   "outputs": [
    {
     "data": {
      "image/png": "[encoded data removed]",
      "text/plain": [
       "<Figure size 432x288 with 1 Axes>"
      ]
     },
     "metadata": {
      "tags": []
     },
     "output_type": "display_data"
    }
   ],
   "source": [
    "plt.scatter(np.log10(lsgamma),lsrecall, marker='x', label='Recall')\n",
    "plt.scatter(np.log10(lsgamma),lsprecision, marker='+',c='red',label='Precision')\n",
    "locs, labels = plt.xticks()\n",
    "plt.xlabel('$\\log_{10}(\\\\alpha)$')\n",
    "plt.title('Evolution of the Precision and the Recall with the sparsity parameter.')\n",
    "plt.legend()\n",
    "plt.savefig('confusion_sparsity.png')\n",
    "plt.show()"
   ]
  },
  {
   "cell_type": "markdown",
   "metadata": {
    "colab_type": "text",
    "id": "jG-FNPxZMJmc"
   },
   "source": [
    "###### Consistency of the transition matrix\n"
   ]
  },
  {
   "cell_type": "code",
   "execution_count": 0,
   "metadata": {
    "colab": {},
    "colab_type": "code",
    "id": "nXxKPE_vl3Ol"
   },
   "outputs": [],
   "source": [
    "nb_experiments = 1\n",
    "maxsize = 200\n",
    "sizes = [i*20 for i in range(1,maxsize//20+1)]\n",
    "results = {'nodes':[], 'norm':[], 'score':[]}\n",
    "for n in sizes:\n",
    "    for j in range(nb_experiments):\n",
    "        G = SBM(n,K, framework='markov', P=P, Q=Q)\n",
    "        G.estimate_partition()\n",
    "        G.estimate_parameters()\n",
    "        score = G.proportion_error()\n",
    "        results['norm'].append(np.max(np.abs(G.approx_P-P)))\n",
    "        results['nodes'].append(n)\n",
    "        results['score'].append(score)\n",
    "\n",
    "\n",
    "df = pd.DataFrame(results)\n",
    "dflog = df.apply(np.log10)\n",
    "ax = sns.lineplot(x=\"nodes\", y=\"norm\", err_style=\"bars\", data=dflog)\n",
    "ax.set_ylabel('$\\log(\\|\\|\\hat{P}-P\\|\\|_{\\infty})$',fontsize=12)\n",
    "ax.set_xlabel('$\\log(n)$',fontsize=12)\n",
    "ax.set_title('Consistency of the estimation of the transition matrix')\n",
    "plt.legend()\n",
    "plt.show()"
   ]
  },
  {
   "cell_type": "markdown",
   "metadata": {
    "colab_type": "text",
    "id": "1aHyY09Ql3Ov"
   },
   "source": [
    "### 4.2) $5$ communities"
   ]
  },
  {
   "cell_type": "code",
   "execution_count": 0,
   "metadata": {
    "colab": {},
    "colab_type": "code",
    "id": "YaGrKFJOl3Ox"
   },
   "outputs": [],
   "source": [
    "K = 5\n",
    "P = np.array([[0.1, 0.3, 0.5,0.01, 0.09],[0.55, 0.15, 0.1, 0.05,0.15],[0.15, 0.3, 0.1, 0.2,0.25 ],[0.15, 0.05, 0.1, 0.5,0.2 ],[0.2,0.3,0.1,0.05,0.35]])\n",
    "Q = np.array([[0.6, 0.1, 0.15, 0.1, 0.2 ],[0.2, 0.5, 0.35, 0.1, 0.4 ], [0.4, 0.15, 0.6, 0.25, 0.05], [0.4,0.1,0.1,0.2,0.55],[0.3,0.35,0.2,0.1,0.7]])"
   ]
  },
  {
   "cell_type": "markdown",
   "metadata": {
    "colab_type": "text",
    "id": "18PnXbMul3O5"
   },
   "source": [
    "#### 4.2.1) Visualization of the matrices $\\hat{B}$ and $B^*$"
   ]
  },
  {
   "cell_type": "markdown",
   "metadata": {
    "colab_type": "text",
    "id": "lrqrY2qNl3O6"
   },
   "source": [
    "$$n=40$$"
   ]
  },
  {
   "cell_type": "code",
   "execution_count": 0,
   "metadata": {
    "colab": {
     "base_uri": "https://localhost:8080/",
     "height": 225
    },
    "colab_type": "code",
    "id": "ZHsx6UoGl3O8",
    "outputId": "89bc4c07-e59b-45a2-984e-85caca5c6ab9"
   },
   "outputs": [
    {
     "data": {
      "image/png": "[encoded data removed]",
      "text/plain": [
       "<Figure size 432x288 with 3 Axes>"
      ]
     },
     "metadata": {
      "tags": []
     },
     "output_type": "display_data"
    }
   ],
   "source": [
    "n = 40\n",
    "G = SBM(n, K, framework='markov', P=P, Q=Q)\n",
    "G.estimate_partition()\n",
    "G.visualize_B_matrices()"
   ]
  },
  {
   "cell_type": "markdown",
   "metadata": {
    "colab_type": "text",
    "id": "45CllVKdl3PF"
   },
   "source": [
    "$$n=160$$"
   ]
  },
  {
   "cell_type": "code",
   "execution_count": 0,
   "metadata": {
    "colab": {
     "base_uri": "https://localhost:8080/",
     "height": 225
    },
    "colab_type": "code",
    "id": "a2v3p25xl3PG",
    "outputId": "87b1e384-8e73-419b-b75c-89d93e813be6"
   },
   "outputs": [
    {
     "data": {
      "image/png": "[encoded data removed]",
      "text/plain": [
       "<Figure size 432x288 with 3 Axes>"
      ]
     },
     "metadata": {
      "tags": []
     },
     "output_type": "display_data"
    }
   ],
   "source": [
    "n = 160\n",
    "G = SBM(n, K, framework='markov', P=P, Q=Q)\n",
    "G.estimate_partition()\n",
    "G.visualize_B_matrices()"
   ]
  },
  {
   "cell_type": "markdown",
   "metadata": {
    "colab_type": "text",
    "id": "-FyQh6vAl3PP"
   },
   "source": [
    "#### 4.2.2) Recovery of hidden variables and parameter estimation"
   ]
  },
  {
   "cell_type": "code",
   "execution_count": 0,
   "metadata": {
    "colab": {},
    "colab_type": "code",
    "id": "vzBYnuNhl3PQ"
   },
   "outputs": [],
   "source": [
    "lsP = []\n",
    "lsQ = []\n",
    "lspi = []\n",
    "lsscore = []\n",
    "sizes = [40,60,80,100,120,140,160,180]\n",
    "for n in sizes:\n",
    "    G = SBM(n,K, framework='markov', P=P, Q=Q)\n",
    "    G.estimate_partition()\n",
    "    G.estimate_parameters()\n",
    "    score= G.proportion_error()\n",
    "    lsP.append(G.approx_P)\n",
    "    lsQ.append(G.approx_Q)\n",
    "    lspi.append(G.approx_pi)\n",
    "    lsscore.append(score)"
   ]
  },
  {
   "cell_type": "markdown",
   "metadata": {
    "colab_type": "text",
    "id": "UNdesLlzl3PW"
   },
   "source": [
    "##### Missclassification error"
   ]
  },
  {
   "cell_type": "code",
   "execution_count": 0,
   "metadata": {
    "colab": {
     "base_uri": "https://localhost:8080/",
     "height": 301
    },
    "colab_type": "code",
    "id": "GGcF55X5l3PX",
    "outputId": "75e953d8-ce2d-488a-8043-0335543572c9"
   },
   "outputs": [
    {
     "data": {
      "image/png": "[encoded data removed]",
      "text/plain": [
       "<Figure size 432x288 with 1 Axes>"
      ]
     },
     "metadata": {
      "tags": []
     },
     "output_type": "display_data"
    }
   ],
   "source": [
    "indmax = 0\n",
    "while lsscore[indmax]>1e-9:\n",
    "    indmax += 1\n",
    "plt.plot(sizes[:indmax],np.log10(np.array(lsscore[:indmax])))\n",
    "plt.ylabel('$ \\log_{10}(\\mathrm{err}(\\hat{G},G))$',fontsize=12)\n",
    "plt.xlabel('Number of nodes: $n$',fontsize=12)\n",
    "plt.title('Convergence rate of the misclassification error for $K=5$.')\n",
    "plt.show()"
   ]
  },
  {
   "cell_type": "markdown",
   "metadata": {
    "colab_type": "text",
    "id": "mDvfaV87l3Pd"
   },
   "source": [
    "##### Consistency of the estimation of the transition and connectivity matrices\n"
   ]
  },
  {
   "cell_type": "code",
   "execution_count": 0,
   "metadata": {
    "colab": {},
    "colab_type": "code",
    "id": "dCDKqmaJl3Pe"
   },
   "outputs": [],
   "source": [
    "G = SBM(300, K, framework='markov', P=P, Q=Q)\n",
    "infP = []\n",
    "infQ = []\n",
    "lsP = np.array(lsP)\n",
    "for i in range(lsP.shape[0]):\n",
    "    infP.append(np.max(np.abs(P-lsP[i])))\n",
    "    infQ.append(np.max(np.abs(Q-lsQ[i])))\n",
    "\n",
    "fig = plt.figure(figsize=(17,3))\n",
    "ax = fig.add_subplot(1,2,1)\n",
    "ax.plot(np.log10(sizes),np.log10(infP))\n",
    "ax.set_ylabel('$ \\log_{10}(\\|\\| \\hat{P}-P\\|\\|_{\\infty})$',fontsize=12)\n",
    "ax.set_xlabel('$\\log(n)$',fontsize=12)\n",
    "ax.set_title('Consistency of the estimation of the transition matrix for $K=5$.')\n",
    "ax = fig.add_subplot(1,2,2)\n",
    "ax.plot(np.log10(sizes),np.log10(infQ))\n",
    "ax.set_ylabel('$ \\log_{10}(\\|\\| \\hat{Q}-Q\\|\\|_{\\infty})$',fontsize=12)\n",
    "ax.set_xlabel('$\\log(n)$',fontsize=12)\n",
    "ax.set_title('Consistency of the estimation of the connectivity matrix for $K=5$.')\n",
    "plt.show()"
   ]
  },
  {
   "cell_type": "markdown",
   "metadata": {},
   "source": [
    "## Prediction"
   ]
  },
  {
   "cell_type": "code",
   "execution_count": null,
   "metadata": {},
   "outputs": [],
   "source": [
    "np.random.seed(1)\n",
    "K = 5\n",
    "P = np.array([[0.1, 0.3, 0.5,0.01, 0.09],[0.55, 0.15, 0.1, 0.05,0.15],[0.15, 0.3, 0.1, 0.2,0.25 ],[0.15, 0.05, 0.1, 0.5,0.2 ],[0.2,0.3,0.1,0.05,0.35]])\n",
    "Q = np.array([[0.6, 0.1, 0.15, 0.1, 0.2 ],[0.2, 0.5, 0.35, 0.1, 0.4 ], [0.4, 0.15, 0.6, 0.25, 0.05], [0.4,0.1,0.1,0.2,0.55],[0.3,0.35,0.2,0.1,0.7]])\n",
    "G = SBM(140, K, framework='markov', P=P, Q=Q)\n",
    "G.estimate_partition()\n",
    "G.visualize_B_matrices()"
   ]
  },
  {
   "cell_type": "code",
   "execution_count": 7,
   "metadata": {},
   "outputs": [
    {
     "name": "stderr",
     "output_type": "stream",
     "text": [
      "/home/qduchemi/Bureau/SBM/inference-markovian-SBM/markovianSBM/Estimation.py:23: RuntimeWarning: invalid value encountered in true_divide\n",
      "  self.approx_P /= np.tile(self.approx_pi.reshape(-1,1),(1,self.K))\n",
      "/home/qduchemi/Bureau/SBM/inference-markovian-SBM/markovianSBM/Estimation.py:37: RuntimeWarning: invalid value encountered in double_scalars\n",
      "  self.approx_Q[k,l] /= approx_effectifs[k]*approx_effectifs[l]\n"
     ]
    },
    {
     "data": {
      "text/plain": [
       "(2, 0, 1, 3, 4)"
      ]
     },
     "execution_count": 7,
     "metadata": {},
     "output_type": "execute_result"
    }
   ],
   "source": [
    "G.estimate_parameters()\n",
    "G.permutation"
   ]
  },
  {
   "cell_type": "code",
   "execution_count": null,
   "metadata": {},
   "outputs": [],
   "source": [
    "Piid = np.ones((K,K)) / K\n",
    "np.random.seed(1)\n",
    "Giid = SBM(200, K, framework='markov', P=Piid, Q=Q)\n",
    "Giid.estimate_partition()"
   ]
  },
  {
   "cell_type": "code",
   "execution_count": null,
   "metadata": {},
   "outputs": [],
   "source": [
    "def link_prediction_iid_case(nbnodes):    \n",
    "    link_probas = np.zeros(nbnodes)\n",
    "    for i in range(nbnodes):\n",
    "        link_probas[i] = np.sum(Giid.P[Giid.clusters[Giid.n-1],:] * Giid.Q[Giid.clusters[i],:])\n",
    "    return link_probas\n",
    "\n",
    "def link_prediction_estimates(nbnodes):    \n",
    "    link_probas = np.zeros(nbnodes)\n",
    "    for i in range(nbnodes):\n",
    "        link_probas[i] = np.sum(G.approx_P[G.clusters_approx[G.n-1],:] * G.Q[G.clusters_approx[i],:])\n",
    "    return link_probas\n",
    "\n",
    "def link_prediction_true(nbnodes):    \n",
    "    link_probas = np.zeros(nbnodes)\n",
    "    for i in range(nbnodes):\n",
    "        link_probas[i] = np.sum(G.P[G.clusters[G.n-1],:] * G.Q[G.clusters[i],:])\n",
    "    return link_probas\n",
    "\n",
    "\n",
    "link_probas_iid_case = link_prediction_iid_case(10)\n",
    "G.estimate_parameters()\n",
    "link_probas_estimates = link_prediction_estimates(10)\n",
    "link_probas_true = link_prediction_true(10)"
   ]
  },
  {
   "cell_type": "code",
   "execution_count": null,
   "metadata": {},
   "outputs": [],
   "source": [
    "plt.figure(1)\n",
    "ind = np.array([i for i in range(1,11)])\n",
    "plt.scatter(ind, link_probas_iid_case.reshape(-1),marker='*', label='iid case (SBM estimate)',s=100*np.ones(10))\n",
    "plt.scatter(ind, link_probas_true.reshape(-1),marker='x', label='Bayes optimal probabilities',s=100*np.ones(10))\n",
    "plt.scatter(ind, link_probas_estimates.reshape(-1), marker='+', label='MSBM estimate',s=100*np.ones(10))\n",
    "plt.xlabel('$10$ first nodes: $X_1, \\dots, X_{10}$',fontsize=14)\n",
    "plt.ylabel('Link probability', fontsize=14)\n",
    "plt.legend(fontsize=12,loc=2)\n",
    "#plt.savefig('link_proba_simu_concentrated.png')"
   ]
  },
  {
   "cell_type": "code",
   "execution_count": 14,
   "metadata": {
    "scrolled": true
   },
   "outputs": [],
   "source": [
    "Piid = np.ones((2,2)) / 2\n",
    "Q = np.array([[0.8, 0.2],[0.1, 0.3]])\n",
    "K = 2\n",
    "np.random.seed(1)\n",
    "Giid = SBM(50, K, framework='markov', P=Piid, Q=Q)\n",
    "Giid.estimate_partition()"
   ]
  },
  {
   "cell_type": "code",
   "execution_count": 40,
   "metadata": {},
   "outputs": [
    {
     "data": {
      "image/png": "[encoded data removed]",
      "text/plain": [
       "<Figure size 432x288 with 3 Axes>"
      ]
     },
     "metadata": {
      "needs_background": "light"
     },
     "output_type": "display_data"
    }
   ],
   "source": [
    "P = np.array([[0.2, 0.8],[0.6, 0.4]])\n",
    "Q = np.array([[0.8, 0.2],[0.1, 0.3]])\n",
    "np.random.seed(1)\n",
    "G = SBM(50, 2, framework='markov', P=P, Q=Q)\n",
    "G.estimate_partition()\n",
    "G.visualize_B_matrices()\n",
    "G.estimate_parameters()"
   ]
  },
  {
   "cell_type": "markdown",
   "metadata": {},
   "source": [
    "# Hypothesis testing\n",
    "\n",
    "file:///tmp/mozilla_qduchemi0/JIAM_2412002_GENERALIZEDLIKELIHOODRATIOTESTOFASOECTRANSPROBINERGODICMC.pdf\n",
    "\n",
    "http://home.ku.edu.tr/~btan/PDF/JournalArticles/EJORmarkovtest02.pdf"
   ]
  },
  {
   "cell_type": "code",
   "execution_count": 19,
   "metadata": {},
   "outputs": [
    {
     "name": "stdout",
     "output_type": "stream",
     "text": [
      "0\n"
     ]
    }
   ],
   "source": [
    "################### TO RUN ON A CLUSTER WITH AN ARRAY JOB\n",
    "\n",
    "list_n = [10*i for i in range(6,7)]\n",
    "pvalue_iid = np.zeros(len(list_n))\n",
    "pvalue_markov = np.zeros(len(list_n))\n",
    "\n",
    "#array = os.environ['SLURM_ARRAY_TASK_ID']\n",
    "#np.random.seed(int(array))\n",
    "nbite = 1\n",
    "K = 2\n",
    "P = np.array([[0.2, 0.8],[0.6, 0.4]])\n",
    "Q = np.array([[0.8, 0.2],[0.1, 0.3]])\n",
    "gap = np.float('inf')\n",
    "s,v = np.linalg.eig(P.T)\n",
    "invmeas = np.zeros(K)\n",
    "for i in range(len(s)):\n",
    "    if abs(s[i]-1)<gap:\n",
    "        gap = abs(s[i]-1)\n",
    "        invmeas = v[:,i]\n",
    "\n",
    "if invmeas[0]<0:\n",
    "    invmeas *= -1\n",
    "invmeas /= np.sum(invmeas)\n",
    "\n",
    "Piid = np.tile(np.array(invmeas).reshape(1,-1),(K,1))\n",
    "\n",
    "for ind,n in enumerate(list_n):\n",
    "    print(ind)\n",
    "    for ite in range(nbite):\n",
    "        G = SBM(n, K, framework='markov', P=P, Q=Q)\n",
    "        G.estimate_partition()\n",
    "        G.estimate_effectifs()\n",
    "        G.estimate_parameters()\n",
    "        Giid = SBM(n, K, framework='markov', P=Piid, Q=Q)\n",
    "        Giid.estimate_partition()\n",
    "        Giid.estimate_effectifs()\n",
    "        Giid.estimate_parameters()\n",
    "        iidstat = -2 * np.sum(  Giid.approx_transitions * (np.log( Giid.approx_effectifs.reshape(-1,1) * Piid )   - np.log(Giid.approx_transitions)  ))\n",
    "        \n",
    "        piid = 1-sc.stats.chi2.cdf(iidstat,df=K**2-K)\n",
    "\n",
    "        stat = -2 * np.sum(  G.approx_transitions * ( np.log( G.approx_effectifs.reshape(-1,1) * Piid )  - np.log(G.approx_transitions)  ))\n",
    "\n",
    "        plat = 1-sc.stats.chi2.cdf(stat,df=K**2-K)\n",
    "        pvalue_iid[ind] += piid\n",
    "        pvalue_markov[ind] += plat\n",
    "#     np.save('pvalue_iid'+array+'.npy',pvalue_iid)\n",
    "#     np.save('pvalue_markov'+array+'.npy',pvalue_markov)"
   ]
  }
 ],
 "metadata": {
  "colab": {
   "collapsed_sections": [],
   "name": "experiments-markovian-SBM.ipynb",
   "provenance": []
  },
  "kernelspec": {
   "display_name": "Python 3",
   "language": "python",
   "name": "python3"
  },
  "language_info": {
   "codemirror_mode": {
    "name": "ipython",
    "version": 3
   },
   "file_extension": ".py",
   "mimetype": "text/x-python",
   "name": "python",
   "nbconvert_exporter": "python",
   "pygments_lexer": "ipython3",
   "version": "3.7.4"
  }
 },
 "nbformat": 4,
 "nbformat_minor": 1
}
